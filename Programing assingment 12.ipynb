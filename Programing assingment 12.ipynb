{
 "cells": [
  {
   "cell_type": "markdown",
   "id": "ac0c7d50",
   "metadata": {},
   "source": [
    "1. Write a Python program to Extract Unique values dictionary values"
   ]
  },
  {
   "cell_type": "code",
   "execution_count": 56,
   "id": "762b4ca7",
   "metadata": {},
   "outputs": [
    {
     "name": "stdout",
     "output_type": "stream",
     "text": [
      "orignal values:  {'a': 1, 'b': 2, 'c': 3, 'd': 3, 'e': 4}\n",
      "unique values :  {1, 2, 3, 4}\n"
     ]
    }
   ],
   "source": [
    "a = {\n",
    "    'a':1,\n",
    "    'b':2,\n",
    "    'c':3,\n",
    "    'd':3,\n",
    "    'e':4\n",
    "}\n",
    "b=set(a.values())\n",
    "print(\"orignal values: \",a)\n",
    "print(\"unique values : \",b)"
   ]
  },
  {
   "cell_type": "markdown",
   "id": "91fbda9c",
   "metadata": {},
   "source": [
    "2. Write a Python program to find the sum of all items in a dictionary?\n"
   ]
  },
  {
   "cell_type": "code",
   "execution_count": 63,
   "id": "ffd48574",
   "metadata": {},
   "outputs": [
    {
     "name": "stdout",
     "output_type": "stream",
     "text": [
      " sum of all items in a dictionary:  139\n"
     ]
    }
   ],
   "source": [
    "a = {\n",
    "    'a':10,\n",
    "    'b':22,\n",
    "    'c':33,\n",
    "    'd':34,\n",
    "    'e':40\n",
    "}\n",
    "b=sum(a.values())\n",
    "print(\" sum of all items in a dictionary: \",b)"
   ]
  },
  {
   "cell_type": "markdown",
   "id": "e512a133",
   "metadata": {},
   "source": [
    "3. Write a Python program to Merging two Dictionaries?\n"
   ]
  },
  {
   "cell_type": "code",
   "execution_count": 11,
   "id": "c06a1b1c",
   "metadata": {},
   "outputs": [
    {
     "name": "stdout",
     "output_type": "stream",
     "text": [
      "None\n",
      "{'aa': 10, 'bb': 22, 'cc': 33, 'dd': 34, 'ee': 40, 'a': 1, 'b': 2, 'c': 3, 'd': 3, 'e': 4}\n"
     ]
    }
   ],
   "source": [
    "def Merge(a,b):\n",
    "    return (b.update(a))\n",
    "a = {\n",
    "    'a':1,\n",
    "    'b':2,\n",
    "    'c':3,\n",
    "    'd':3,\n",
    "    'e':4\n",
    "}\n",
    "b={\n",
    "    'aa':10,\n",
    "    'bb':22,\n",
    "    'cc':33,\n",
    "    'dd':34,\n",
    "    'ee':40\n",
    "}\n",
    "\n",
    "print(Merge(a,b))\n",
    "print(b)"
   ]
  },
  {
   "cell_type": "markdown",
   "id": "0e3ac0bc",
   "metadata": {},
   "source": [
    "4. Write a Python program to convert key-values list to flat dictionary?\n"
   ]
  },
  {
   "cell_type": "code",
   "execution_count": 18,
   "id": "afb57110",
   "metadata": {},
   "outputs": [
    {
     "name": "stdout",
     "output_type": "stream",
     "text": [
      "original dic :  {'month': [1, 2, 3], 'name': ['JAN', 'FEB', 'MARCH']}\n",
      "flatter dic :  {1: 'JAN', 2: 'FEB', 3: 'MARCH'}\n"
     ]
    }
   ],
   "source": [
    "a={\"month\":[1,2,3],\n",
    "  \"name\":[\"JAN\",\"FEB\",\"MARCH\"]\n",
    "  }\n",
    "print(\"original dic : \",a)\n",
    "z=dict(zip(a[\"month\"],a[\"name\"]))\n",
    "print(\"flatter dic : \",z)\n",
    "\n"
   ]
  },
  {
   "cell_type": "markdown",
   "id": "e5e7365e",
   "metadata": {},
   "source": [
    "5. Write a Python program to insertion at the beginning in OrderedDict?\n"
   ]
  },
  {
   "cell_type": "code",
   "execution_count": 67,
   "id": "e85081d6",
   "metadata": {},
   "outputs": [
    {
     "name": "stdout",
     "output_type": "stream",
     "text": [
      "OrderedDict([('A', '1'), ('x', '2'), ('z', '3'), ('D', '4')])\n",
      "Resultant Dictionary :\n",
      "OrderedDict([('D', '4'), ('A', '1'), ('x', '2'), ('z', '3')])\n"
     ]
    }
   ],
   "source": [
    "from collections import OrderedDict  \n",
    "dic1 = OrderedDict([('A', '1'), ('x', '2'), ('z', '3')])\n",
    "\n",
    "dic1.update({\"D\": '4'})\n",
    "print(dic1)\n",
    "\n",
    "dic1.move_to_end(\"D\", last=False)\n",
    "  \n",
    "\n",
    "print (\"Resultant Dictionary :\")\n",
    "print(dic1)\n"
   ]
  },
  {
   "cell_type": "markdown",
   "id": "e24b6d15",
   "metadata": {},
   "source": [
    "6. Write a Python program to check order of character in string using OrderedDict()?\n"
   ]
  },
  {
   "cell_type": "code",
   "execution_count": 70,
   "id": "47859751",
   "metadata": {},
   "outputs": [
    {
     "name": "stdout",
     "output_type": "stream",
     "text": [
      "true\n"
     ]
    }
   ],
   "source": [
    "from collections import OrderedDict \n",
    "def checkOrder(input, pattern): \n",
    "\n",
    "    dict = OrderedDict.fromkeys(input) \n",
    "  \n",
    "    ptrlen = 0\n",
    "    for key,value in dict.items(): \n",
    "        if (key == pattern[ptrlen]): \n",
    "            ptrlen = ptrlen + 1\n",
    "    \n",
    "        if (ptrlen == (len(pattern))): \n",
    "            return 'true'\n",
    "  \n",
    "  \n",
    "    return 'false'\n",
    "  \n",
    "\n",
    "if __name__ == \"__main__\": \n",
    "    input = 'engineers rock'\n",
    "    pattern = 'ni'\n",
    "    print (checkOrder(input,pattern)) "
   ]
  },
  {
   "cell_type": "markdown",
   "id": "358e7dbf",
   "metadata": {},
   "source": [
    "7. Write a Python program to sort Python Dictionaries by Key or Value?"
   ]
  },
  {
   "cell_type": "code",
   "execution_count": 78,
   "id": "c20d1d87",
   "metadata": {},
   "outputs": [
    {
     "name": "stdout",
     "output_type": "stream",
     "text": [
      "{'bunty': 15, 'chetan': 2, 'geetansh': 32, 'nitin': 9, 'santosh': 10}\n"
     ]
    }
   ],
   "source": [
    "a = {'santosh': 10, 'nitin': 9,\n",
    "        'bunty': 15, 'chetan': 2, 'geetansh': 32}\n",
    "b=list(a.keys())\n",
    "b.sort()\n",
    "s_dic={i:a[i] for i in b}\n",
    "print(s_dic)"
   ]
  },
  {
   "cell_type": "code",
   "execution_count": null,
   "id": "61499a56",
   "metadata": {},
   "outputs": [],
   "source": []
  }
 ],
 "metadata": {
  "kernelspec": {
   "display_name": "Python 3 (ipykernel)",
   "language": "python",
   "name": "python3"
  },
  "language_info": {
   "codemirror_mode": {
    "name": "ipython",
    "version": 3
   },
   "file_extension": ".py",
   "mimetype": "text/x-python",
   "name": "python",
   "nbconvert_exporter": "python",
   "pygments_lexer": "ipython3",
   "version": "3.9.12"
  }
 },
 "nbformat": 4,
 "nbformat_minor": 5
}
