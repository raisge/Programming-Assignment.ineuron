{
 "cells": [
  {
   "cell_type": "markdown",
   "id": "c9dd316b",
   "metadata": {},
   "source": [
    "Question1. Create a function that takes three arguments a, b, c and returns the sum of the\n",
    "numbers that are evenly divided by c from the range a, b inclusive.\n",
    "Examples\n",
    "evenly_divisible(1, 10, 20) ➞ 0\n",
    " No number between 1 and 10 can be evenly divided by 20.\n",
    "evenly_divisible(1, 10, 2) ➞ 30\n",
    "2 + 4 + 6 + 8 + 10 = 30\n",
    "evenly_divisible(1, 10,"
   ]
  },
  {
   "cell_type": "code",
   "execution_count": 14,
   "id": "67eb224b",
   "metadata": {},
   "outputs": [
    {
     "name": "stdout",
     "output_type": "stream",
     "text": [
      "0\n",
      "30\n"
     ]
    }
   ],
   "source": [
    "def evenly_divd(a,b,c):\n",
    "    sum=0\n",
    "    for i in range(a,b+1):\n",
    "        if i % c==0 :\n",
    "            sum+=i\n",
    "    return sum\n",
    "print(evenly_divd(1,10,20))\n",
    "print(evenly_divd(1,10,2))"
   ]
  },
  {
   "cell_type": "code",
   "execution_count": null,
   "id": "6d3b8d1b",
   "metadata": {},
   "outputs": [],
   "source": [
    "Question2. Create a function that returns True if a given inequality expression is correct and\n",
    "False otherwise.\n",
    "Examples\n",
    "correct_signs(\"3 < 7 < 11\") ➞ True\n",
    "correct_signs(\"13 > 44 > 33 > 1 \") ➞ False\n",
    "correct_signs(\"1 < 2 < 6 < 9 > 3\") ➞ True\n"
   ]
  },
  {
   "cell_type": "code",
   "execution_count": 17,
   "id": "9a7bf6c9",
   "metadata": {},
   "outputs": [
    {
     "name": "stdout",
     "output_type": "stream",
     "text": [
      "True\n",
      "False\n",
      "True\n"
     ]
    }
   ],
   "source": [
    "def correct_signs(s):\n",
    "    regex=eval(s)\n",
    "    if regex:\n",
    "        return True\n",
    "    else:\n",
    "        return False \n",
    "print(correct_signs(\"3 < 7 < 11\"))\n",
    "print(correct_signs(\"13 > 44 > 33 > 1 \"))\n",
    "print(correct_signs(\"1 < 2 < 6 < 9 > 3\"))"
   ]
  },
  {
   "cell_type": "markdown",
   "id": "0b3d6f84",
   "metadata": {},
   "source": [
    "Question3. Create a function that replaces all the vowels in a string with a specified character.\n",
    "Examples\n",
    "replace_vowels(\"the aardvark\",\"#\") ➞ \"th# ##rdv#rk\"\n",
    "replace_vowels(\"minnie mouse\",\"?\")  ➞ \"m?nn?? m??s?\"\n",
    "replace_vowels(\"shakespeare\", \"*\") ➞ \"sh*k*sp**r*\""
   ]
  },
  {
   "cell_type": "code",
   "execution_count": 31,
   "id": "71d567ce",
   "metadata": {},
   "outputs": [
    {
     "name": "stdout",
     "output_type": "stream",
     "text": [
      "th# ##rdv#rk\n",
      "m?nn?? m??s?\n",
      "sh*k*sp**r*\n"
     ]
    }
   ],
   "source": [
    "def replace_vowels(text,k):\n",
    "    vowels=\"AEIOUaeiou\"\n",
    "    for i in vowels:\n",
    "        text = text.replace(i,k)\n",
    "    return text\n",
    "\n",
    "print(replace_vowels(\"the aardvark\",\"#\"))       \n",
    "print(replace_vowels(\"minnie mouse\",\"?\"))\n",
    "print(replace_vowels(\"shakespeare\", \"*\"))"
   ]
  },
  {
   "cell_type": "markdown",
   "id": "82615a64",
   "metadata": {},
   "source": [
    "Question4. Write a function that calculates the factorial of a number recursively.\n",
    "Examples\n",
    "factorial(5) ➞ 120\n",
    "factorial(3) ➞ 6\n",
    "factorial(1) ➞ 1\n",
    "factorial(0) ➞ 1"
   ]
  },
  {
   "cell_type": "code",
   "execution_count": 47,
   "id": "4ecffe0a",
   "metadata": {},
   "outputs": [
    {
     "name": "stdout",
     "output_type": "stream",
     "text": [
      "factorial (5):  120\n",
      "factorial (3):  6\n",
      "factorial (1):  1\n",
      "factorial (0):  1\n"
     ]
    }
   ],
   "source": [
    "def factorial(s):\n",
    "    if s==1 or s==0:\n",
    "        return 1\n",
    "    else :\n",
    "        return(s*factorial(s-1))\n",
    "print(\"factorial (5): \",factorial(5))\n",
    "print(\"factorial (3): \",factorial(3))\n",
    "print(\"factorial (1): \",factorial(1))\n",
    "print(\"factorial (0): \",factorial(0))"
   ]
  },
  {
   "cell_type": "code",
   "execution_count": null,
   "id": "56778b9e",
   "metadata": {},
   "outputs": [],
   "source": [
    "Hamming distance is the number of characters that differ between two strings.\n",
    "To illustrate:\n",
    "String1: &quot;abcbba&quot;\n",
    "String2: &quot;abcbda&quot;\n",
    "Hamming Distance: 1 - &quot;b&quot; vs. &quot;d&quot; is the only difference.\n",
    "Create a function that computes the hamming distance between two strings.\n",
    "Examples\n",
    "hamming_distance(\"abcde\",\"bcdef\") ➞ 5\n",
    "hamming_distance(\"abcde\",\"abcde\") ➞ 0\n",
    "hamming_distance(\"strong\",\"strung\") ➞ 1"
   ]
  },
  {
   "cell_type": "code",
   "execution_count": 63,
   "id": "5b37aca2",
   "metadata": {},
   "outputs": [
    {
     "name": "stdout",
     "output_type": "stream",
     "text": [
      "5\n",
      "0\n",
      "1\n"
     ]
    }
   ],
   "source": [
    "def hamming_distance(str1,str2):\n",
    "    distance=0\n",
    "    l=len(str1)\n",
    "    for i in range(l):\n",
    "        if str1[i] != str2[i]:\n",
    "            distance += 1\n",
    "    return distance\n",
    "print(hamming_distance(\"abcde\",\"bcdef\"))\n",
    "print(hamming_distance(\"abcde\",\"abcde\"))\n",
    "print(hamming_distance(\"strong\",\"strung\"))"
   ]
  },
  {
   "cell_type": "code",
   "execution_count": null,
   "id": "7d806d02",
   "metadata": {},
   "outputs": [],
   "source": []
  }
 ],
 "metadata": {
  "kernelspec": {
   "display_name": "Python 3 (ipykernel)",
   "language": "python",
   "name": "python3"
  },
  "language_info": {
   "codemirror_mode": {
    "name": "ipython",
    "version": 3
   },
   "file_extension": ".py",
   "mimetype": "text/x-python",
   "name": "python",
   "nbconvert_exporter": "python",
   "pygments_lexer": "ipython3",
   "version": "3.9.12"
  }
 },
 "nbformat": 4,
 "nbformat_minor": 5
}
