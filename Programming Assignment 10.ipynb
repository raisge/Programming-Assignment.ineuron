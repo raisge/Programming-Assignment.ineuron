{
 "cells": [
  {
   "cell_type": "code",
   "execution_count": 61,
   "id": "c5d5f022",
   "metadata": {},
   "outputs": [
    {
     "name": "stdout",
     "output_type": "stream",
     "text": [
      "sum of a list :  385\n"
     ]
    }
   ],
   "source": [
    "# 1. Write a Python program to find sum of elements in list?\n",
    "\n",
    "list=[22,33,44,55,66,77,88]\n",
    "total=0\n",
    "total=sum(list)\n",
    "print(\"sum of a list : \",total)"
   ]
  },
  {
   "cell_type": "code",
   "execution_count": 63,
   "id": "e5d3c080",
   "metadata": {},
   "outputs": [
    {
     "name": "stdout",
     "output_type": "stream",
     "text": [
      "multiplication of a list :  115956720\n"
     ]
    }
   ],
   "source": [
    "#2. Write a Python program to Multiply all numbers in the list?\n",
    "\n",
    "list=[22,33,44,55,66]\n",
    "total=1\n",
    "for i in list:\n",
    "    total=total*i\n",
    "print(\"multiplication of a list : \" , total)"
   ]
  },
  {
   "cell_type": "code",
   "execution_count": 59,
   "id": "d55b5406",
   "metadata": {},
   "outputs": [
    {
     "name": "stdout",
     "output_type": "stream",
     "text": [
      "smallest number in list :  1\n"
     ]
    }
   ],
   "source": [
    "#3. Write a Python program to find smallest number in a list?\n",
    "\n",
    "list=[22,33,1,44,4,55,66,99,77,854,959,5,6,4,7,8,9]\n",
    "print(\"smallest number in list : \",min(list))"
   ]
  },
  {
   "cell_type": "code",
   "execution_count": 60,
   "id": "c548db58",
   "metadata": {},
   "outputs": [
    {
     "name": "stdout",
     "output_type": "stream",
     "text": [
      "lagest number in list :  959\n"
     ]
    }
   ],
   "source": [
    "#4. Write a Python program to find largest number in a list?\n",
    "\n",
    "list=[22,33,1,44,4,55,66,99,77,854,959,5,6,4,7,8,9]\n",
    "print(\"lagest number in list : \",max(list))"
   ]
  },
  {
   "cell_type": "code",
   "execution_count": 55,
   "id": "89b463a8",
   "metadata": {},
   "outputs": [
    {
     "name": "stdout",
     "output_type": "stream",
     "text": [
      "second lagest number :  854\n"
     ]
    }
   ],
   "source": [
    "#5. Write a Python program to find second largest number in a list?\n",
    "\n",
    "list=[22,33,1,44,4,55,66,99,77,854,959,5,6,4,7,8,9]\n",
    "list1=(list)\n",
    "list1.sort()\n",
    "print(\"second lagest number : \",list1[-2])\n"
   ]
  },
  {
   "cell_type": "code",
   "execution_count": 7,
   "id": "0f636292",
   "metadata": {},
   "outputs": [
    {
     "name": "stdout",
     "output_type": "stream",
     "text": [
      "[77, 99, 854, 959]\n"
     ]
    }
   ],
   "source": [
    "6. Write a Python program to find N largest elements from a list?\n",
    "\n",
    "list=[22,33,1,44,4,55,66,99,77,854,959,5,6,4,7,8,9]\n",
    "list.sort()\n",
    "print(list[-4:])"
   ]
  },
  {
   "cell_type": "code",
   "execution_count": 34,
   "id": "2655f582",
   "metadata": {},
   "outputs": [
    {
     "name": "stdout",
     "output_type": "stream",
     "text": [
      "even number :  22\n",
      "even number :  44\n",
      "even number :  4\n",
      "even number :  66\n",
      "even number :  854\n",
      "even number :  6\n",
      "even number :  4\n",
      "even number :  8\n"
     ]
    }
   ],
   "source": [
    "7. Write a Python program to print even numbers in a list?\n",
    "\n",
    "list=[22,33,1,44,4,55,66,99,77,854,959,5,6,4,7,8,9]\n",
    "for i in list:\n",
    "    if i%2==0:\n",
    "        print(\"even number : \",i)"
   ]
  },
  {
   "cell_type": "code",
   "execution_count": 15,
   "id": "f2aee7a6",
   "metadata": {},
   "outputs": [
    {
     "name": "stdout",
     "output_type": "stream",
     "text": [
      "Object `List` not found.\n",
      "odd number :  33\n",
      "odd number :  1\n",
      "odd number :  55\n",
      "odd number :  99\n",
      "odd number :  77\n",
      "odd number :  959\n",
      "odd number :  5\n",
      "odd number :  7\n",
      "odd number :  9\n"
     ]
    }
   ],
   "source": [
    "8. Write a Python program to print odd numbers in a List?\n",
    "\n",
    "a=[22,33,1,44,4,55,66,99,77,854,959,5,6,4,7,8,9]\n",
    "for i in a:\n",
    "    if i%2!=0:\n",
    "        print(\"odd number : \",i)"
   ]
  },
  {
   "cell_type": "code",
   "execution_count": 24,
   "id": "674c5390",
   "metadata": {},
   "outputs": [
    {
     "name": "stdout",
     "output_type": "stream",
     "text": [
      "Object `List` not found.\n",
      "25\n",
      "33\n",
      "45\n",
      "88\n",
      "99895\n",
      "325\n",
      "55\n",
      "44\n",
      "77\n",
      "88\n"
     ]
    }
   ],
   "source": [
    "9. Write a Python program to Remove empty List from List?\n",
    "\n",
    "list21=[25,33,45,88,99895,[],325,55,[],44,77,88]\n",
    "for i in list21:\n",
    "    if i!=[]:\n",
    "        print(i)"
   ]
  },
  {
   "cell_type": "code",
   "execution_count": 43,
   "id": "7ce76655",
   "metadata": {},
   "outputs": [
    {
     "name": "stdout",
     "output_type": "stream",
     "text": [
      "Cloning or Copying a list :  [25, 33, 45, 99, 88, 77, 44, 55, 66, 254, 698, 545, 123, 798]\n"
     ]
    }
   ],
   "source": [
    "# 10. Write a Python program to Cloning or Copying a list\n",
    "\n",
    "list10=[25,33,45,99,88,77,44,55,66,254,698,545,123,798]\n",
    "list11=[]\n",
    "list11=list10\n",
    "print(\"Cloning or Copying a list : \",list11)"
   ]
  },
  {
   "cell_type": "code",
   "execution_count": 101,
   "id": "762c6905",
   "metadata": {},
   "outputs": [
    {
     "name": "stdout",
     "output_type": "stream",
     "text": [
      "count of 45 in list : 1\n",
      "count of 88 in list :  3\n",
      "count of 55 in list : 6\n"
     ]
    }
   ],
   "source": [
    "# 11. Write a Python program to Count occurrences of an element in a list?\n",
    "\n",
    "list20=[55,25,33,45,99,55,88,77,44,55,66,254,698,545,123,798,88,99,44,55,55,698,545,22,25,88,55]\n",
    "print(f\"count of 45 in list :\",list20.count(45))\n",
    "print(f\"count of 88 in list : \",list20.count(88))\n",
    "print(\"count of 55 in list :\",list20.count(55))"
   ]
  },
  {
   "cell_type": "code",
   "execution_count": null,
   "id": "337e9a09",
   "metadata": {},
   "outputs": [],
   "source": []
  }
 ],
 "metadata": {
  "kernelspec": {
   "display_name": "Python 3 (ipykernel)",
   "language": "python",
   "name": "python3"
  },
  "language_info": {
   "codemirror_mode": {
    "name": "ipython",
    "version": 3
   },
   "file_extension": ".py",
   "mimetype": "text/x-python",
   "name": "python",
   "nbconvert_exporter": "python",
   "pygments_lexer": "ipython3",
   "version": "3.9.12"
  }
 },
 "nbformat": 4,
 "nbformat_minor": 5
}
