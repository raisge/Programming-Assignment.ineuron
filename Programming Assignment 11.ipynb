{
 "cells": [
  {
   "cell_type": "markdown",
   "id": "b1a0fa31",
   "metadata": {},
   "source": [
    "1. Write a Python program to find words which are greater than given length k?"
   ]
  },
  {
   "cell_type": "code",
   "execution_count": 10,
   "id": "e723db41",
   "metadata": {},
   "outputs": [
    {
     "name": "stdout",
     "output_type": "stream",
     "text": [
      "['studing', 'Ineurion']\n"
     ]
    }
   ],
   "source": [
    "def str_k(k,str):\n",
    "    string=[]\n",
    "    text = str.split(\" \")\n",
    "    for x in text:\n",
    "        if len(x) > k:\n",
    "            string.append(x)\n",
    "    return string\n",
    "k = 3\n",
    "str =\"I am studing in Ineurion\"\n",
    "print(str_k(k, str))"
   ]
  },
  {
   "cell_type": "markdown",
   "id": "4e403760",
   "metadata": {},
   "source": [
    "2. Write a Python program for removing i-th character from a string?"
   ]
  },
  {
   "cell_type": "code",
   "execution_count": 2,
   "id": "6104b958",
   "metadata": {},
   "outputs": [
    {
     "name": "stdout",
     "output_type": "stream",
     "text": [
      "strng\n"
     ]
    }
   ],
   "source": [
    "a= \"string\"\n",
    "b=\"\"\n",
    "for i in range(len(a)):\n",
    "    if i !=3:\n",
    "        b=b+a[i]\n",
    "print(b)"
   ]
  },
  {
   "cell_type": "markdown",
   "id": "ea0a8bbd",
   "metadata": {},
   "source": [
    "3. Write a Python program to split and join a string?"
   ]
  },
  {
   "cell_type": "code",
   "execution_count": 3,
   "id": "a57b6baf",
   "metadata": {},
   "outputs": [
    {
     "name": "stdout",
     "output_type": "stream",
     "text": [
      "after split :  ['we', 'are', 'in', 'ineuron', 'fsds', 'boot', 'camp', '2']\n",
      "after join :  we are in ineuron fsds boot camp 2\n"
     ]
    }
   ],
   "source": [
    "a= \"we are in ineuron fsds boot camp 2\"\n",
    "a.split()\n",
    "b=a.split()\n",
    "print(\"after split : \",b)\n",
    "c=\"\".join(a)\n",
    "print(\"after join : \" ,c)"
   ]
  },
  {
   "cell_type": "markdown",
   "id": "e6d57565",
   "metadata": {},
   "source": [
    "4. Write a Python to check if a given string is binary string or not?"
   ]
  },
  {
   "cell_type": "code",
   "execution_count": 11,
   "id": "23cb2169",
   "metadata": {},
   "outputs": [
    {
     "name": "stdout",
     "output_type": "stream",
     "text": [
      "enter a string: 11\n",
      "Its a Binary\n"
     ]
    }
   ],
   "source": [
    "a=input(\"enter a string: \")\n",
    "flag=True\n",
    "for i in a:\n",
    "    if (i==\"1\" or i==\"0\"):\n",
    "        continue\n",
    "    else:\n",
    "        flag = False\n",
    "        print(\"Not a Binary\")\n",
    "        break\n",
    "    \n",
    "if(flag):\n",
    "    print(\"Its a Binary\")"
   ]
  },
  {
   "cell_type": "markdown",
   "id": "7df1c6a7",
   "metadata": {},
   "source": [
    "5. Write a Python program to find uncommon words from two Strings?"
   ]
  },
  {
   "cell_type": "code",
   "execution_count": 72,
   "id": "bae250bf",
   "metadata": {},
   "outputs": [
    {
     "name": "stdout",
     "output_type": "stream",
     "text": [
      "['fruits', 'apple']\n"
     ]
    }
   ],
   "source": [
    "def UncommonWords(a,b):\n",
    "    a=a.split()\n",
    "    b=b.split()\n",
    "    x=[]\n",
    "    for i in a:\n",
    "        if i not in b:\n",
    "            x.append(i)\n",
    "    for i in b:\n",
    "        if i not in a:\n",
    "            x.append(i)\n",
    "    x=list(set(x))\n",
    "    return x\n",
    "a = \"fruits banana tomato\"\n",
    "b = \"apple banana tomato\"\n",
    " \n",
    "# Print required answer\n",
    "print(UncommonWords(a,b))"
   ]
  },
  {
   "cell_type": "markdown",
   "id": "88af3be5",
   "metadata": {},
   "source": [
    "6. Write a Python to find all duplicate characters in string?"
   ]
  },
  {
   "cell_type": "code",
   "execution_count": 75,
   "id": "8754aeec",
   "metadata": {},
   "outputs": [
    {
     "name": "stdout",
     "output_type": "stream",
     "text": [
      "['m', ' ', 'n', 'a', 'e', 'i', 's', 'r']\n"
     ]
    }
   ],
   "source": [
    "a=\"my name is rajeev sharma i am learning in ineuron\"\n",
    "dup=[]\n",
    "for i in a:\n",
    "    if a.count(i)>1:\n",
    "        if i not in dup:\n",
    "            dup.append(i)\n",
    "print(dup)"
   ]
  },
  {
   "cell_type": "markdown",
   "id": "6cd22b45",
   "metadata": {},
   "source": [
    "7. Write a Python Program to check if a string contains any special character?"
   ]
  },
  {
   "cell_type": "code",
   "execution_count": 79,
   "id": "4f1edad4",
   "metadata": {},
   "outputs": [
    {
     "name": "stdout",
     "output_type": "stream",
     "text": [
      "Enter the string: #$%hello%$34\n",
      "There are 5 Speical Characters in #$%hello%$34 which are ['#', '$', '%', '%', '$']\n"
     ]
    }
   ],
   "source": [
    "def checkSpecialChar():\n",
    "    spl_chars = '[@_!#$%^&*()<>?/\\|}{~:]'\n",
    "    in_num = input('Enter the string: ')\n",
    "    count = 0\n",
    "    char_list = []\n",
    "    for ele in in_num:\n",
    "        if ele in spl_chars:\n",
    "            char_list.append(ele)\n",
    "            count = count+1\n",
    "    print(f'There are {count} Speical Characters in {in_num} which are {char_list}')\n",
    "            \n",
    "        \n",
    "checkSpecialChar()\n"
   ]
  },
  {
   "cell_type": "code",
   "execution_count": null,
   "id": "576b641c",
   "metadata": {},
   "outputs": [],
   "source": []
  },
  {
   "cell_type": "code",
   "execution_count": null,
   "id": "c5ae6c3d",
   "metadata": {},
   "outputs": [],
   "source": []
  }
 ],
 "metadata": {
  "kernelspec": {
   "display_name": "Python 3 (ipykernel)",
   "language": "python",
   "name": "python3"
  },
  "language_info": {
   "codemirror_mode": {
    "name": "ipython",
    "version": 3
   },
   "file_extension": ".py",
   "mimetype": "text/x-python",
   "name": "python",
   "nbconvert_exporter": "python",
   "pygments_lexer": "ipython3",
   "version": "3.9.12"
  }
 },
 "nbformat": 4,
 "nbformat_minor": 5
}
