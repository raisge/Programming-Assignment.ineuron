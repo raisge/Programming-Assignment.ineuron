{
 "cells": [
  {
   "cell_type": "code",
   "execution_count": 1,
   "id": "84302d16",
   "metadata": {},
   "outputs": [
    {
     "name": "stdout",
     "output_type": "stream",
     "text": [
      "KM:10\n",
      "miles: 6.2137119\n"
     ]
    }
   ],
   "source": [
    "#1. Write a Python program to convert kilometers to miles?\n",
    "k = int(input('KM:'))\n",
    "m=0.62137119\n",
    "miles=k*m\n",
    "print('miles:',miles)"
   ]
  },
  {
   "cell_type": "code",
   "execution_count": 2,
   "id": "656294fa",
   "metadata": {},
   "outputs": [
    {
     "name": "stdout",
     "output_type": "stream",
     "text": [
      "celsius:10\n",
      "fahrenteit: 50.0\n"
     ]
    }
   ],
   "source": [
    "#2. Write a Python program to convert Celsius to Fahrenheit?\n",
    "c=float(input('celsius:'))\n",
    "e=(c*1.8)+32\n",
    "f=e\n",
    "print('fahrenteit:',f)"
   ]
  },
  {
   "cell_type": "code",
   "execution_count": 3,
   "id": "a49efc88",
   "metadata": {},
   "outputs": [
    {
     "name": "stdout",
     "output_type": "stream",
     "text": [
      "year:1984\n",
      "month1\n",
      "    January 1984\n",
      "Mo Tu We Th Fr Sa Su\n",
      "                   1\n",
      " 2  3  4  5  6  7  8\n",
      " 9 10 11 12 13 14 15\n",
      "16 17 18 19 20 21 22\n",
      "23 24 25 26 27 28 29\n",
      "30 31\n",
      "\n"
     ]
    }
   ],
   "source": [
    "#3. Write a Python program to display calendar?\n",
    "import calendar\n",
    "yy=int(input('year:'))\n",
    "mm=int(input('month'))\n",
    "print(calendar.month(yy,mm))\n"
   ]
  },
  {
   "cell_type": "code",
   "execution_count": 6,
   "id": "dbc0aa5c",
   "metadata": {},
   "outputs": [
    {
     "name": "stdout",
     "output_type": "stream",
     "text": [
      "Enter a(a!=0): 10\n",
      "Enter b: 5\n",
      "Enter c: 6\n",
      "Result for equation,{a}x**2 + [b]x +{c} = 0, are:\n",
      "The solutions are (-0.25-0.733143914930759j) and (-0.25+0.733143914930759j)\n"
     ]
    }
   ],
   "source": [
    "#4. Write a Python program to solve quadratic equation?\n",
    "import cmath\n",
    "\n",
    "a= int(input(\"Enter a(a!=0): \"))\n",
    "b= int(input(\"Enter b: \"))\n",
    "c= int(input(\"Enter c: \"))\n",
    "\n",
    "d = (b**2) - (4*a*c)\n",
    "\n",
    "sol1 = (-b-cmath.sqrt(d))/(2*a)\n",
    "sol2 = (-b+cmath.sqrt(d))/(2*a)\n",
    "\n",
    "print(\"Result for equation,{a}x**2 + [b]x +{c} = 0, are:\")\n",
    "\n",
    "print(\"The solutions are {} and {}\".format(sol1 , sol2))"
   ]
  },
  {
   "cell_type": "code",
   "execution_count": 12,
   "id": "4a28efa2",
   "metadata": {},
   "outputs": [
    {
     "name": "stdout",
     "output_type": "stream",
     "text": [
      "Before swapping x= 1 and y= 2\n",
      "\n",
      "\n",
      "After swapping x= 2 and y= 1\n"
     ]
    }
   ],
   "source": [
    "#5. Write a Python program to swap two variables without temp variable?\n",
    "x = 1\n",
    "y = 2\n",
    "print(\"Before swapping\", \"x=\",x,\"and\",\"y=\",y)\n",
    "x = x+y\n",
    "y = x-y\n",
    "x = x-y\n",
    "print(\"\\n\")\n",
    "print(\"After swapping\", \"x=\",x,\"and\",\"y=\",y)"
   ]
  },
  {
   "cell_type": "code",
   "execution_count": null,
   "id": "402bda2e",
   "metadata": {},
   "outputs": [],
   "source": []
  },
  {
   "cell_type": "code",
   "execution_count": null,
   "id": "c4b4d684",
   "metadata": {},
   "outputs": [],
   "source": []
  }
 ],
 "metadata": {
  "kernelspec": {
   "display_name": "Python 3 (ipykernel)",
   "language": "python",
   "name": "python3"
  },
  "language_info": {
   "codemirror_mode": {
    "name": "ipython",
    "version": 3
   },
   "file_extension": ".py",
   "mimetype": "text/x-python",
   "name": "python",
   "nbconvert_exporter": "python",
   "pygments_lexer": "ipython3",
   "version": "3.9.12"
  }
 },
 "nbformat": 4,
 "nbformat_minor": 5
}
