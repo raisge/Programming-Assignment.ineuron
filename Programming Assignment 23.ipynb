{
 "cells": [
  {
   "cell_type": "markdown",
   "id": "fd6dfa9f",
   "metadata": {},
   "source": [
    "Question 1:\n",
    "\n",
    "Create a function that takes a number as an argument and returns True or False depending\n",
    "on whether the number is symmetrical or not. A number is symmetrical when it is the same as\n",
    "its reverse.\n",
    "Examples\n",
    "is_symmetrical(7227) ➞ True\n",
    "is_symmetrical(12567) ➞ False\n",
    "is_symmetrical(44444444) ➞ True\n",
    "is_symmetrical(9939) ➞ False\n",
    "is_symmetrical(1112111) ➞ True"
   ]
  },
  {
   "cell_type": "code",
   "execution_count": 11,
   "id": "7f1b5c60",
   "metadata": {},
   "outputs": [
    {
     "name": "stdout",
     "output_type": "stream",
     "text": [
      "True\n",
      "True\n",
      "False\n",
      "True\n",
      "False\n"
     ]
    }
   ],
   "source": [
    "def is_symetrical(num):\n",
    "    \"\"\" whether the number is symmetrical or not\n",
    "    A number is symmetrical when it is the same as\n",
    "    its reverse.\"\"\"\n",
    "    str_form=str(num)\n",
    "    reverse_str=str_form[::-1]\n",
    "    reverse_no=int(reverse_str)\n",
    "    return num==reverse_no\n",
    "print(is_symetrical(1112111))\n",
    "print(is_symetrical(7227))\n",
    "print(is_symetrical(12567))\n",
    "print(is_symetrical(44444444))\n",
    "print(is_symetrical(9939))"
   ]
  },
  {
   "cell_type": "markdown",
   "id": "f8450143",
   "metadata": {},
   "source": [
    "Question 2:\n",
    "    \n",
    "Given a string of numbers separated by a comma and space, return the product of the\n",
    "numbers.\n",
    "Examples\n",
    "multiply_nums(&quot;2, 3&quot;) ➞ 6\n",
    "multiply_nums(&quot;1, 2, 3, 4&quot;) ➞ 24\n",
    "multiply_nums(&quot;54, 75, 453, 0&quot;) ➞ 0\n",
    "multiply_nums(&quot;10, -2&quot;) ➞ -20"
   ]
  },
  {
   "cell_type": "code",
   "execution_count": 14,
   "id": "1e85c744",
   "metadata": {},
   "outputs": [
    {
     "name": "stdout",
     "output_type": "stream",
     "text": [
      "6\n",
      "24\n",
      "0\n",
      "-20\n"
     ]
    }
   ],
   "source": [
    "def multiply_nums(string):\n",
    "    \"\"\" return the product of the\n",
    "numbers \"\"\"\n",
    "    l=string.split(\",\")\n",
    "    outcome=1\n",
    "    for i in l:\n",
    "        outcome*=int(i)\n",
    "    return outcome\n",
    "print(multiply_nums(\"2,3\"))\n",
    "print(multiply_nums(\"1,2,3,4\"))\n",
    "print(multiply_nums(\"54,75,453,0\"))\n",
    "print(multiply_nums(\"10, -2\"))"
   ]
  },
  {
   "cell_type": "markdown",
   "id": "8e4204ed",
   "metadata": {},
   "source": [
    "Question 3\n",
    "Create a function that squares every digit of a number.\n",
    "Examples\n",
    "square_digits(9119) ➞ 811181\n",
    "square_digits(2483) ➞ 416649\n",
    "square_digits(3212) ➞ 9414\n",
    "Notes\n",
    "The function receives an integer and must return an integer."
   ]
  },
  {
   "cell_type": "code",
   "execution_count": 21,
   "id": "489f146d",
   "metadata": {},
   "outputs": [
    {
     "name": "stdout",
     "output_type": "stream",
     "text": [
      "square_digits of (9119) :  811181\n",
      "square_digits(2483) :  416649\n",
      "square_digits(3212) :  9414\n"
     ]
    }
   ],
   "source": [
    "def square_digits(num):\n",
    "    l=[]\n",
    "    m=[]\n",
    "    Result=\"\"\n",
    "    string_form_of_num=str(num)#\"9119\"\n",
    "    # here we converted integer input into string\n",
    "    for i in string_form_of_num:\n",
    "        l.append(int(i)**2)#l=[81,1,1,81]\n",
    "    #we apply square operation in string form of input\n",
    "    for j in l:\n",
    "        m.append(str(j))# m=[\"81\",\"1\",\"1\",\"81\"]\n",
    "    for k in m:\n",
    "        Result+=k\n",
    "    finalresult=int(Result)\n",
    "    return finalresult\n",
    "print(\"square_digits of (9119) : \" ,square_digits(9119))\n",
    "print(\"square_digits(2483) : \" ,square_digits(2483))\n",
    "print(\"square_digits(3212) : \", square_digits(3212))"
   ]
  },
  {
   "cell_type": "markdown",
   "id": "ab6e6703",
   "metadata": {},
   "source": [
    "Question 4:\n",
    "\n",
    "Create a function that sorts a list and removes all duplicate items from it.\n",
    "Examples\n",
    "setify([1, 3, 3, 5, 5]) ➞ [1, 3, 5]\n",
    "setify([4, 4, 4, 4]) ➞ [4]\n",
    "setify([5, 7, 8, 9, 10, 15]) ➞ [5, 7, 8, 9, 10, 15]\n",
    "setify([3, 3, 3, 2, 1]) ➞ [1, 2, 3]"
   ]
  },
  {
   "cell_type": "code",
   "execution_count": 28,
   "id": "4ebd03d8",
   "metadata": {},
   "outputs": [
    {
     "name": "stdout",
     "output_type": "stream",
     "text": [
      "[5, 7, 8, 9, 10, 15]\n",
      "[1, 3, 5]\n",
      "[4]\n",
      "[1, 2, 3]\n"
     ]
    }
   ],
   "source": [
    "def setify(l):\n",
    "    \"\"\" sorts a list and removes all duplicate items from it\"\"\"\n",
    "    Set=set(l)\n",
    "    return list(Set)\n",
    "print(setify([5, 7, 8, 9, 10, 15]))\n",
    "print(setify([1, 3, 3, 5, 5]))\n",
    "print(setify([4, 4,4,4]))\n",
    "print(setify([3, 3, 3, 2, 1]))"
   ]
  },
  {
   "cell_type": "markdown",
   "id": "d02d9466",
   "metadata": {},
   "source": [
    "Question 5:\n",
    "    \n",
    "Create a function that returns the mean of all digits.\n",
    "Examples\n",
    "mean(42) ➞ 3\n",
    "mean(12345) ➞ 3\n",
    "mean(666) ➞ 6\n",
    "Notes\n",
    " The mean of all digits is the sum of digits / how many digits there are (e.g. mean of digits in\n",
    "512 is (5+1+2)/3(number of digits) = 8/3=2).\n",
    " The mean will always be an integer."
   ]
  },
  {
   "cell_type": "code",
   "execution_count": 29,
   "id": "fd0aa216",
   "metadata": {},
   "outputs": [
    {
     "name": "stdout",
     "output_type": "stream",
     "text": [
      "2\n",
      "3\n",
      "3\n",
      "6\n"
     ]
    }
   ],
   "source": [
    "def mean(n):\n",
    "    \"\"\"returns the mean of all digits. \"\"\"\n",
    "    in_stringform=str(n)\n",
    "    denominator=len(in_stringform)\n",
    "    Sum=0\n",
    "    for i in in_stringform:\n",
    "        Sum+=int(i)\n",
    "    Mean=(Sum/denominator)\n",
    "    return int(Mean)\n",
    "print(mean(512))\n",
    "print(mean(42))\n",
    "print(mean(12345))\n",
    "print(mean(666))"
   ]
  },
  {
   "cell_type": "code",
   "execution_count": null,
   "id": "b1aa94c4",
   "metadata": {},
   "outputs": [],
   "source": []
  }
 ],
 "metadata": {
  "kernelspec": {
   "display_name": "Python 3 (ipykernel)",
   "language": "python",
   "name": "python3"
  },
  "language_info": {
   "codemirror_mode": {
    "name": "ipython",
    "version": 3
   },
   "file_extension": ".py",
   "mimetype": "text/x-python",
   "name": "python",
   "nbconvert_exporter": "python",
   "pygments_lexer": "ipython3",
   "version": "3.9.12"
  }
 },
 "nbformat": 4,
 "nbformat_minor": 5
}
