{
 "cells": [
  {
   "cell_type": "code",
   "execution_count": 1,
   "id": "98aec871",
   "metadata": {},
   "outputs": [
    {
     "name": "stdout",
     "output_type": "stream",
     "text": [
      "70\n"
     ]
    }
   ],
   "source": [
    "# 1. Write a Python Program to find sum of array?\n",
    "\n",
    "arr=[12,13,14,15,16]\n",
    "a=sum(arr)\n",
    "print(a)"
   ]
  },
  {
   "cell_type": "code",
   "execution_count": 2,
   "id": "6f72cefd",
   "metadata": {},
   "outputs": [
    {
     "name": "stdout",
     "output_type": "stream",
     "text": [
      "45698\n"
     ]
    }
   ],
   "source": [
    "# 2. Write a Python Program to find largest element in an array?\n",
    "\n",
    "arr=[25,99,47,875,56,45698]\n",
    "a=max(arr)\n",
    "print(a)"
   ]
  },
  {
   "cell_type": "code",
   "execution_count": 3,
   "id": "ba883087",
   "metadata": {},
   "outputs": [
    {
     "data": {
      "text/plain": [
       "[444, 666, 555, 111, 888, 999, 99]"
      ]
     },
     "execution_count": 3,
     "metadata": {},
     "output_type": "execute_result"
    }
   ],
   "source": [
    "# 3. Write a Python Program for array rotation?\n",
    "\n",
    "arr=[99,999,888,111,555,666,444]\n",
    "arr[::-1]\n"
   ]
  },
  {
   "cell_type": "code",
   "execution_count": 4,
   "id": "c5955975",
   "metadata": {},
   "outputs": [
    {
     "data": {
      "text/plain": [
       "[785, 986, 34, 99.24, 98, 1, 435]"
      ]
     },
     "execution_count": 4,
     "metadata": {},
     "output_type": "execute_result"
    }
   ],
   "source": [
    "# 4. Write a Python Program to Split the array and add the first part to the end?\n",
    "\n",
    "a = [1,435,785,986,34,99.24,98]\n",
    "def rotation(a,d,n):\n",
    "    new_array = a[d:] + a[:d]\n",
    "    return new_array\n",
    "\n",
    "rotation(a,2,6)"
   ]
  },
  {
   "cell_type": "code",
   "execution_count": 5,
   "id": "ca6a05e4",
   "metadata": {},
   "outputs": [
    {
     "name": "stdout",
     "output_type": "stream",
     "text": [
      "True\n"
     ]
    }
   ],
   "source": [
    "# 5. Write a Python Program to check if given array is Monotonic?\n",
    "\n",
    "A=[4,5,22,35,88]\n",
    "def Monotonic(A):\n",
    "  \n",
    "    return (all(A[i] <= A[i + 1] for i in range(len(A) - 1)) or\n",
    "            all(A[i] >= A[i + 1] for i in range(len(A) - 1)))\n",
    "print(Monotonic(A))"
   ]
  },
  {
   "cell_type": "code",
   "execution_count": null,
   "id": "2364de15",
   "metadata": {},
   "outputs": [],
   "source": []
  }
 ],
 "metadata": {
  "kernelspec": {
   "display_name": "Python 3 (ipykernel)",
   "language": "python",
   "name": "python3"
  },
  "language_info": {
   "codemirror_mode": {
    "name": "ipython",
    "version": 3
   },
   "file_extension": ".py",
   "mimetype": "text/x-python",
   "name": "python",
   "nbconvert_exporter": "python",
   "pygments_lexer": "ipython3",
   "version": "3.9.12"
  }
 },
 "nbformat": 4,
 "nbformat_minor": 5
}
