{
 "cells": [
  {
   "cell_type": "code",
   "execution_count": 1,
   "id": "68031a18",
   "metadata": {},
   "outputs": [
    {
     "name": "stdout",
     "output_type": "stream",
     "text": [
      "[12, 24, 36]\n",
      "[14, 28, 42]\n"
     ]
    }
   ],
   "source": [
    "# 1. Write a Python Program to Add Two Matrices?\n",
    "x=[[8,16,24],\n",
    "  [5,10,15]]\n",
    "y=[[4,8,12],\n",
    "  [9,18,27]]\n",
    "\n",
    "result = [[0,0,0],\n",
    "        [0,0,0]]\n",
    "# iterate through rows\n",
    "for i in range(len(x)):  \n",
    "# iterate through columns\n",
    "    for j in range(len(x[0])):\n",
    "        result[i][j] = x[i][j] + y[i][j]\n",
    " \n",
    "for r in result:\n",
    "    print(r)"
   ]
  },
  {
   "cell_type": "code",
   "execution_count": 2,
   "id": "c9b1d456",
   "metadata": {},
   "outputs": [
    {
     "name": "stdout",
     "output_type": "stream",
     "text": [
      "[32, 128, 288]\n",
      "[45, 180, 405]\n"
     ]
    }
   ],
   "source": [
    "# 2. Write a Python Program to Multiply Two Matrices?\n",
    "x=[[8,16,24],\n",
    "  [5,10,15]]\n",
    "y=[[4,8,12],\n",
    "  [9,18,27]]\n",
    "\n",
    "result = [[0,0,0],\n",
    "        [0,0,0]]\n",
    "# iterate through rows\n",
    "for i in range(len(x)):  \n",
    "# iterate through columns\n",
    "    for j in range(len(x[0])):\n",
    "        result[i][j] = x[i][j] * y[i][j]\n",
    " \n",
    "for r in result:\n",
    "    print(r)"
   ]
  },
  {
   "cell_type": "code",
   "execution_count": 3,
   "id": "cfdd5620",
   "metadata": {},
   "outputs": [
    {
     "name": "stdout",
     "output_type": "stream",
     "text": [
      "[8, 5]\n",
      "[16, 10]\n",
      "[24, 15]\n"
     ]
    }
   ],
   "source": [
    "# 3. Write a Python Program to Transpose a Matrix?\n",
    "x=[[8,16,24],\n",
    "  [5,10,15]]\n",
    "\n",
    "result=[[0,0],\n",
    "       [0,0],\n",
    "       [0,0]]\n",
    "\n",
    "for i in range(len(x)):\n",
    "    for j in range(len(x[0])):\n",
    "        result[j][i]=x[i][j]\n",
    "for r in result:\n",
    "    print(r)"
   ]
  },
  {
   "cell_type": "code",
   "execution_count": 5,
   "id": "d5496d24",
   "metadata": {},
   "outputs": [
    {
     "name": "stdout",
     "output_type": "stream",
     "text": [
      "Enter StringWrite a Python Program to Sort Words in Alphabetic Order?\n",
      "A\n",
      "ALPHABETIC\n",
      "IN\n",
      "ORDER?\n",
      "PROGRAM\n",
      "PYTHON\n",
      "SORT\n",
      "TO\n",
      "WORDS\n",
      "WRITE\n"
     ]
    }
   ],
   "source": [
    "# 4. Write a Python Program to Sort Words in Alphabetic Order?\n",
    "a = input(\"Enter String\").upper()\n",
    "\n",
    "b = a.split()\n",
    "b.sort()\n",
    "for words in b:\n",
    "    print(words)"
   ]
  },
  {
   "cell_type": "code",
   "execution_count": 6,
   "id": "f94e7d51",
   "metadata": {},
   "outputs": [
    {
     "name": "stdout",
     "output_type": "stream",
     "text": [
      "HelloPythonlearner\n"
     ]
    }
   ],
   "source": [
    "# 5. Write a Python Program to Remove Punctuation From a String?\n",
    "def Punctuation(string):\n",
    "    punctuations = '''!()-[]{};:'\"\\,<>./?@#$%^&*_~'''  #defining punctuations\n",
    "    for x in string.lower():\n",
    "        if x in punctuations:\n",
    "            string = string.replace(x,\"\")    #replacing the punctuations with blank.\n",
    "    print(string)\n",
    "  \n",
    "  #Calling the function\n",
    "string = \"Hello???@@##$%Python%$^learner$%^\"\n",
    "Punctuation(string)"
   ]
  },
  {
   "cell_type": "code",
   "execution_count": null,
   "id": "cf557209",
   "metadata": {},
   "outputs": [],
   "source": []
  }
 ],
 "metadata": {
  "kernelspec": {
   "display_name": "Python 3 (ipykernel)",
   "language": "python",
   "name": "python3"
  },
  "language_info": {
   "codemirror_mode": {
    "name": "ipython",
    "version": 3
   },
   "file_extension": ".py",
   "mimetype": "text/x-python",
   "name": "python",
   "nbconvert_exporter": "python",
   "pygments_lexer": "ipython3",
   "version": "3.9.12"
  }
 },
 "nbformat": 4,
 "nbformat_minor": 5
}
