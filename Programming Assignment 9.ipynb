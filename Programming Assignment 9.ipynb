{
 "cells": [
  {
   "cell_type": "code",
   "execution_count": 1,
   "id": "cafd2be3",
   "metadata": {},
   "outputs": [
    {
     "name": "stdout",
     "output_type": "stream",
     "text": [
      "enter number: 125\n",
      "125 is not a disarium number\n",
      "enter number: 100\n",
      "100 is not a disarium number\n"
     ]
    }
   ],
   "source": [
    "# 1. Write a Python program to check if the given number is a Disarium Number?\n",
    "\n",
    "def disarium():\n",
    "    a=input(\"enter number: \")\n",
    "    sum=0\n",
    "    for i in range(len(a)):\n",
    "        sum=sum+int(a[i])**(i+1)\n",
    "    if sum==int(a):\n",
    "            print(f\"{a} is a disarium number\")\n",
    "    else:\n",
    "            print(f\"{a} is not a disarium number\")\n",
    "disarium()        \n",
    "disarium() "
   ]
  },
  {
   "cell_type": "code",
   "execution_count": 2,
   "id": "54c1fa75",
   "metadata": {},
   "outputs": [
    {
     "data": {
      "text/plain": [
       "[1, 2, 3, 4, 5, 6, 7, 8, 9, 89]"
      ]
     },
     "execution_count": 2,
     "metadata": {},
     "output_type": "execute_result"
    }
   ],
   "source": [
    "# 2. Write a Python program to print all disarium numbers between 1 to 100?\n",
    "def disarium(a,b):\n",
    "    output=[]\n",
    "    for z in range(a,b+1):\n",
    "        sum=0\n",
    "        for i in range(len(str(z))):\n",
    "            sum=sum+int(str(z)[i])**(i+1)\n",
    "        if sum==z:\n",
    "            output.append(z)\n",
    "    return output\n",
    "disarium(1,100)     "
   ]
  },
  {
   "cell_type": "code",
   "execution_count": 3,
   "id": "abdea089",
   "metadata": {},
   "outputs": [
    {
     "name": "stdout",
     "output_type": "stream",
     "text": [
      "Enter a number: 89\n",
      "89  is an Unhappy Number!!!\n"
     ]
    }
   ],
   "source": [
    "#  3. Write a Python program to check if the given number is Happy Number?\n",
    "\n",
    "def isHappyNumber(n):    \n",
    "    digit = sum = 0    \n",
    "    while(n > 0):    \n",
    "        digit = n % 10 \n",
    "        sum = sum + (digit * digit)    \n",
    "        n = n // 10   \n",
    "    return sum    \n",
    "        \n",
    "num = int(input(\"Enter a number: \"))    \n",
    "result = num    \n",
    "     \n",
    "while(result != 1 and result != 4):    \n",
    "    result = isHappyNumber(result)   \n",
    "     \n",
    "if(result == 1):    \n",
    "    print(num, \" is a Happy Number!!!\")   \n",
    "else:    \n",
    "    print(num, \" is an Unhappy Number!!!\")"
   ]
  },
  {
   "cell_type": "code",
   "execution_count": 4,
   "id": "14070792",
   "metadata": {},
   "outputs": [
    {
     "name": "stdout",
     "output_type": "stream",
     "text": [
      "The Happy Numbers between 0 and 100 are [1, 7, 10, 13, 19, 23, 28, 31, 32, 44, 49, 68, 70, 79, 82, 86, 91, 94, 97, 100]\n"
     ]
    }
   ],
   "source": [
    "# 4. Write a Python program to print all happy numbers between 1 and 100?\n",
    "\n",
    "def checkHappyNumber(start=0,end=100):\n",
    "    happyNumbersList = []\n",
    "    for in_num in range(start,end+1):\n",
    "        in_num = str(in_num)\n",
    "        inum_holder = in_num\n",
    "        trackNumber = set()   \n",
    "        while True:\n",
    "            if in_num != '1' and str(in_num) not in trackNumber:\n",
    "                trackNumber.add(in_num)\n",
    "                sum = 0\n",
    "                for ele in range(len((in_num))):\n",
    "                    sum = sum + int(in_num[ele])**2\n",
    "                in_num = str(sum)\n",
    "            elif str(in_num) in trackNumber:\n",
    "                break\n",
    "            else:\n",
    "                happyNumbersList.append(int(inum_holder))\n",
    "                break\n",
    "    print(f'The Happy Numbers between {start} and {end} are {happyNumbersList}')\n",
    "    \n",
    "checkHappyNumber(0,100)"
   ]
  },
  {
   "cell_type": "code",
   "execution_count": 5,
   "id": "0a3e895a",
   "metadata": {},
   "outputs": [
    {
     "name": "stdout",
     "output_type": "stream",
     "text": [
      "enter number: 100\n",
      "100 is a Harshad Number\n"
     ]
    }
   ],
   "source": [
    "# 5. Write a Python program to determine whether the given number is a Harshad Number?\n",
    "\n",
    "def Harshad_number():\n",
    "    a=(input(\"enter number: \"))\n",
    "    sum=0\n",
    "    for i in range(len(a)):\n",
    "        sum=sum+int(a[i])\n",
    "    if int(a)%sum==0:\n",
    "         print(f'{a} is a Harshad Number')\n",
    "    else:\n",
    "        print(f'{a} is a Not Harshad Number')\n",
    "        \n",
    "Harshad_number()"
   ]
  },
  {
   "cell_type": "code",
   "execution_count": 6,
   "id": "2f869186",
   "metadata": {},
   "outputs": [
    {
     "name": "stdout",
     "output_type": "stream",
     "text": [
      "0 2 6 12 20 30 42 56 72 90 "
     ]
    }
   ],
   "source": [
    "# 6. Write a Python program to print all pronic numbers between 1 and 100?\n",
    "\n",
    "import math\n",
    "def checkPronic (x) :\n",
    "    i = 0\n",
    "    while ( i <= (int)(math.sqrt(x)) ) :\n",
    "        if ( x == i * (i + 1)) :\n",
    "            return True\n",
    "        i = i + 1\n",
    "    return False\n",
    "i = 0\n",
    "while (i <= 100) :\n",
    "    if checkPronic(i) :\n",
    "        print(i,end=\" \")\n",
    "    i = i + 1"
   ]
  },
  {
   "cell_type": "code",
   "execution_count": null,
   "id": "6b058e62",
   "metadata": {},
   "outputs": [],
   "source": []
  }
 ],
 "metadata": {
  "kernelspec": {
   "display_name": "Python 3 (ipykernel)",
   "language": "python",
   "name": "python3"
  },
  "language_info": {
   "codemirror_mode": {
    "name": "ipython",
    "version": 3
   },
   "file_extension": ".py",
   "mimetype": "text/x-python",
   "name": "python",
   "nbconvert_exporter": "python",
   "pygments_lexer": "ipython3",
   "version": "3.9.12"
  }
 },
 "nbformat": 4,
 "nbformat_minor": 5
}
