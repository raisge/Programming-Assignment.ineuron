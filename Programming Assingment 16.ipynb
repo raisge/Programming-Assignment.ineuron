{
 "cells": [
  {
   "cell_type": "markdown",
   "id": "dbaa064b",
   "metadata": {},
   "source": [
    "Question1. Write a function that stutters a word as if someone is struggling to read it. The\n",
    "first two letters are repeated twice with an ellipsis ... and space after each, and then the\n",
    "word is pronounced with a question mark ?.\n",
    "Examples\n",
    "stutter(\"incredible\") ➞ in... in... \"incredible\"\n",
    "stutter(\"enthusiastic\") ➞ en... en... \"enthusiastic\"\n",
    "stutter(\"outstanding\") ➞ ou... ou... \"outstanding\"\n",
    "\n",
    "Hint :- Assume all input is in lower case and at least two characters long."
   ]
  },
  {
   "cell_type": "code",
   "execution_count": 5,
   "id": "c26135d1",
   "metadata": {},
   "outputs": [
    {
     "name": "stdout",
     "output_type": "stream",
     "text": [
      "si... si... sitaram?\n",
      "in... in... incredible?\n",
      "en... en... enthusiastic?\n",
      "ou... ou... outstanding?\n"
     ]
    }
   ],
   "source": [
    "def stutter(word):\n",
    "    s = word[:2]\n",
    "    return (2 * (s + '... ')) + word + '?'\n",
    "print(stutter(\"sitaram\"))\n",
    "print(stutter(\"incredible\"))\n",
    "print(stutter(\"enthusiastic\"))\n",
    "print(stutter(\"outstanding\"))"
   ]
  },
  {
   "cell_type": "markdown",
   "id": "d0032e75",
   "metadata": {},
   "source": [
    "Question 2.Create a function that takes an angle in radians and returns the corresponding\n",
    "angle in degrees rounded to one decimal place.\n",
    "Examples\n",
    "radians_to_degrees(1) ➞ 57.3\n",
    "radians_to_degrees(20) ➞ 1145.9\n",
    "radians_to_degrees(50) ➞ 2864.8"
   ]
  },
  {
   "cell_type": "code",
   "execution_count": 15,
   "id": "a4661e68",
   "metadata": {},
   "outputs": [
    {
     "name": "stdout",
     "output_type": "stream",
     "text": [
      "57.295827908797776\n",
      "1145.9165581759555\n",
      "2864.7913954398887\n"
     ]
    }
   ],
   "source": [
    "def radian_to_degrees(radian):\n",
    "    pi = 3.14159\n",
    "    degree = radian * (180/pi)\n",
    "    return degree\n",
    "\n",
    "print(radian_to_degrees(1))\n",
    "print(radian_to_degrees(20))\n",
    "print(radian_to_degrees(50))"
   ]
  },
  {
   "cell_type": "markdown",
   "id": "1def6b79",
   "metadata": {},
   "source": [
    "Question 3. In this challenge, establish if a given integer num is a Curzon number. If 1 plus\n",
    "2 elevated to num is exactly divisible by 1 plus 2 multiplied by num, then num is a Curzon\n",
    "number.\n",
    "Given a non-negative integer num, implement a function that returns True if num is a Curzon\n",
    "number, or False otherwise.\n",
    "Examples\n",
    "is_curzon(5) ➞ True\n",
    "2 ** 5 + 1 = 33\n",
    "2 * 5 + 1 = 11\n",
    "33 is a multiple of 11\n",
    "is_curzon(10) ➞ False\n",
    " 2 ** 10 + 1 = 1025\n",
    "2 * 10 + 1 = 21\n",
    " 1025 is not a multiple of 21\n",
    "is_curzon(14) ➞ True\n",
    " 2 ** 14 + 1 = 16385\n",
    " 2 * 14 + 1 = 29\n",
    " 16385 is a multiple of 29"
   ]
  },
  {
   "cell_type": "code",
   "execution_count": 34,
   "id": "a0749a4e",
   "metadata": {},
   "outputs": [
    {
     "name": "stdout",
     "output_type": "stream",
     "text": [
      "True\n",
      "False\n",
      "True\n"
     ]
    }
   ],
   "source": [
    "def checkIfCurzonNumber(N):\n",
    " \n",
    "    powerTerm, productTerm = 0, 0\n",
    " \n",
    "    # Find 2^N + 1\n",
    "    powerTerm = pow(2, N) + 1\n",
    " \n",
    "    # Find 2*N + 1\n",
    "    productTerm = 2 * N + 1\n",
    " \n",
    "    # Check for divisibility\n",
    "    if (powerTerm % productTerm == 0):\n",
    "        print(\"True\")\n",
    "    else:\n",
    "        print(\"False\")\n",
    "N = 5\n",
    "checkIfCurzonNumber(N)\n",
    "N = 10\n",
    "checkIfCurzonNumber(N)\n",
    "N = 14\n",
    "checkIfCurzonNumber(N)"
   ]
  },
  {
   "cell_type": "code",
   "execution_count": null,
   "id": "d018aec3",
   "metadata": {},
   "outputs": [],
   "source": [
    "Question 4.Given the side length x find the area of a hexagon.\n",
    "\n",
    "Examples\n",
    "area_of_hexagon(1) ➞ 2.6\n",
    "area_of_hexagon(2) ➞ 10.4\n",
    "area_of_hexagon(3) ➞ 23.4"
   ]
  },
  {
   "cell_type": "code",
   "execution_count": 7,
   "id": "e89be6ce",
   "metadata": {},
   "outputs": [
    {
     "name": "stdout",
     "output_type": "stream",
     "text": [
      "area of hexagon(1) :  2.598076211353316\n",
      "area of hexagon(2) :  10.392304845413264\n",
      "area of hexagon(3) :  23.382685902179844\n"
     ]
    }
   ],
   "source": [
    "import math\n",
    "def area_of_hexagon(s):     \n",
    "    return ((3 * math.sqrt(3) * (s * s)) / 2)\n",
    "print(\"area of hexagon(1) : \",area_of_hexagon(1))\n",
    "print(\"area of hexagon(2) : \",area_of_hexagon(2))\n",
    "print(\"area of hexagon(3) : \",area_of_hexagon(3))"
   ]
  },
  {
   "cell_type": "markdown",
   "id": "bf677890",
   "metadata": {},
   "source": [
    "Question 5. Create a function that returns a base-2 (binary) representation of a base-10\n",
    "(decimal) string number. To convert is simple: ((2) means base-2 and (10) means base-10)\n",
    "010101001(2) = 1 + 8 + 32 + 128.\n",
    "Going from right to left, the value of the most right bit is 1, now from that every bit to the left\n",
    "will be x2 the value, value of an 8 bit binary numbers are (256, 128, 64, 32, 16, 8, 4, 2, 1).\n",
    "Examples\n",
    "binary(1) ➞ &quot;1&quot;\n",
    "1*1 = 1\n",
    "binary(5) ➞ &quot;101&quot;\n",
    "1*1 + 1*4 = 5\n",
    "binary(10) ➞ &quot;1010&quot;\n",
    "1*2 + 1*8 = 10"
   ]
  },
  {
   "cell_type": "code",
   "execution_count": 14,
   "id": "c7c34324",
   "metadata": {},
   "outputs": [
    {
     "name": "stdout",
     "output_type": "stream",
     "text": [
      "10\n",
      "0\n",
      "1\n",
      "10\n",
      "11\n",
      "100\n",
      "101\n",
      "110\n",
      "111\n",
      "1000\n",
      "1001\n"
     ]
    }
   ],
   "source": [
    "def decimalToBinary(n):\n",
    "    return bin(n).replace(\"0b\", \"\")\n",
    "q=int(input())   \n",
    "for i in range(q):\n",
    "    print(decimalToBinary(i))"
   ]
  },
  {
   "cell_type": "code",
   "execution_count": 25,
   "id": "eefa8aa1",
   "metadata": {},
   "outputs": [
    {
     "name": "stdout",
     "output_type": "stream",
     "text": [
      "decimal of 1 : 1\n",
      "decimal of 5 : 101\n",
      "decimal of 10 : 1010\n"
     ]
    }
   ],
   "source": [
    "def decToBinary(n):\n",
    "    binaryNum = [0] * n;\n",
    "    i = 0;\n",
    "    while (n > 0):\n",
    "        binaryNum[i] = n % 2;\n",
    "        n = int(n / 2);\n",
    "        i += 1;\n",
    "    for j in range(i - 1, -1, -1):\n",
    "        print(binaryNum[j], end = \"\");\n",
    "print(\"decimal of 1 :\",decimalToBinary(1))\n",
    "print(\"decimal of 5 :\",decimalToBinary(5))\n",
    "print(\"decimal of 10 :\",decimalToBinary(10))"
   ]
  }
 ],
 "metadata": {
  "kernelspec": {
   "display_name": "Python 3 (ipykernel)",
   "language": "python",
   "name": "python3"
  },
  "language_info": {
   "codemirror_mode": {
    "name": "ipython",
    "version": 3
   },
   "file_extension": ".py",
   "mimetype": "text/x-python",
   "name": "python",
   "nbconvert_exporter": "python",
   "pygments_lexer": "ipython3",
   "version": "3.9.12"
  }
 },
 "nbformat": 4,
 "nbformat_minor": 5
}
