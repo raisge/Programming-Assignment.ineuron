{
 "cells": [
  {
   "cell_type": "code",
   "execution_count": null,
   "id": "f500644d",
   "metadata": {},
   "outputs": [],
   "source": [
    "Question1\n",
    "Create a function that takes a list of strings and integers, and filters out the list so that it\n",
    "returns a list of integers only."
   ]
  },
  {
   "cell_type": "code",
   "execution_count": 11,
   "id": "70524335",
   "metadata": {},
   "outputs": [
    {
     "name": "stdout",
     "output_type": "stream",
     "text": [
      "[1, 2, 3, 4]\n",
      "[0, 1729]\n",
      "[]\n"
     ]
    }
   ],
   "source": [
    "l=[1,2,3,\"a\",\"b\",4]\n",
    "def filter(l):\n",
    "    lst=[]\n",
    "    for i in l:\n",
    "        if type(i)==int:\n",
    "            lst.append(i)\n",
    "    return lst\n",
    "\n",
    "print(filter([1, 2, 3, 'a', 'b', 4])) \n",
    "print(filter(['A', 0, 'Edabit', 1729, 'Python', '1729']))\n",
    "print(filter(['Nothing', 'here']))"
   ]
  },
  {
   "cell_type": "code",
   "execution_count": null,
   "id": "9b1b2780",
   "metadata": {},
   "outputs": [],
   "source": [
    "Question2\n",
    "Given a list of numbers, create a function which returns the list but with each element's\n",
    "index in the list added to itself. This means you add 0 to the number at index 0, add 1 to the\n",
    "number at index 1, etc..."
   ]
  },
  {
   "cell_type": "code",
   "execution_count": 13,
   "id": "7be56c16",
   "metadata": {},
   "outputs": [
    {
     "name": "stdout",
     "output_type": "stream",
     "text": [
      "[0, 1, 2, 3, 4]\n",
      "[1, 3, 5, 7, 9]\n",
      "[5, 5, 5, 5, 5]\n"
     ]
    }
   ],
   "source": [
    "def add_indexes(lst):\n",
    "    ind = 0\n",
    "    index = []\n",
    "    for i in lst:\n",
    "        index.append(lst.index(i,ind) + i)\n",
    "        ind+=1\n",
    "    return index\n",
    "\n",
    "print(add_indexes([0, 0, 0, 0, 0]))\n",
    "print(add_indexes([1, 2, 3, 4, 5]))\n",
    "print(add_indexes([5, 4, 3, 2, 1]))"
   ]
  },
  {
   "cell_type": "code",
   "execution_count": null,
   "id": "d69d9277",
   "metadata": {},
   "outputs": [],
   "source": [
    "Question3\n",
    "Create a function that takes the height and radius of a cone as arguments and returns the\n",
    "volume of the cone rounded to the nearest hundredth. See the resources tab for the formula."
   ]
  },
  {
   "cell_type": "code",
   "execution_count": 16,
   "id": "92a5569d",
   "metadata": {},
   "outputs": [
    {
     "name": "stdout",
     "output_type": "stream",
     "text": [
      "Volume Of Cone :  314\n"
     ]
    }
   ],
   "source": [
    "\n",
    "import math\n",
    "pi = math.pi\n",
    "def cone_volume(r, h):\n",
    "    return round((1 / 3) * pi * r * r * h)\n",
    " \n",
    "\n",
    "# Driver Code\n",
    "radius = float(5)\n",
    "height = float(12)\n",
    "\n",
    "print( \"Volume Of Cone : \", cone_volume(radius, height) )"
   ]
  },
  {
   "cell_type": "code",
   "execution_count": 18,
   "id": "11354e83",
   "metadata": {},
   "outputs": [
    {
     "name": "stdout",
     "output_type": "stream",
     "text": [
      "Volume Of Cone :  1414\n"
     ]
    }
   ],
   "source": [
    "radius = float(15)\n",
    "height = float(6)\n",
    "print( \"Volume Of Cone : \", cone_volume(radius, height) )"
   ]
  },
  {
   "cell_type": "code",
   "execution_count": 19,
   "id": "75e31371",
   "metadata": {},
   "outputs": [
    {
     "name": "stdout",
     "output_type": "stream",
     "text": [
      "Volume Of Cone :  0\n"
     ]
    }
   ],
   "source": [
    "radius = float(18)\n",
    "height = float(0)\n",
    "print( \"Volume Of Cone : \", cone_volume(radius, height) )"
   ]
  },
  {
   "cell_type": "code",
   "execution_count": null,
   "id": "8c8c75dd",
   "metadata": {},
   "outputs": [],
   "source": [
    "Question4\n",
    "This Triangular Number Sequence is generated from a pattern of dots that form a triangle.\n",
    "The first 5 numbers of the sequence, or dots, are:\n",
    "1, 3, 6, 10, 15\n",
    "This means that the first triangle has just one dot, the second one has three dots, the third one\n",
    "has 6 dots and so on.\n",
    "Write a function that gives the number of dots with its corresponding triangle number of the\n",
    "sequence.\n",
    "Examples\n",
    "triangle(1) ➞ 1\n",
    "triangle(6) ➞ 21\n",
    "triangle(215) ➞ 23220\n",
    "A Rule\n",
    "We can make a \"Rule\" so we can calculate any triangular number.\n",
    "\n",
    "First, rearrange the dots like this:\n",
    "\n",
    "triangular numbers 1 to 5\n",
    "\n",
    "Then double the number of dots, and form them into a rectangle:\n",
    "\n",
    "triangular numbers when doubled become n by n+1 rectangles\n",
    "\n",
    "Now it is easy to work out how many dots: just multiply n by n+1\n",
    "\n",
    "Dots in rectangle = n(n+1)\n",
    "\n",
    "But remember we doubled the number of dots, so\n",
    "\n",
    "Dots in triangle = n(n+1)/2\n",
    "\n",
    "We can use xn to mean \"dots in triangle n\", so we get the rule:\n",
    "\n",
    "Rule: xn = n(n+1)/2"
   ]
  },
  {
   "cell_type": "code",
   "execution_count": 24,
   "id": "1338c7e9",
   "metadata": {},
   "outputs": [
    {
     "name": "stdout",
     "output_type": "stream",
     "text": [
      "Enter the trinalge number :7\n",
      "The 7th triangle has 28 dots \n"
     ]
    }
   ],
   "source": [
    "def triangle(n):\n",
    "    return n*(n+1)*0.5\n",
    "\n",
    "n = int(input('Enter the trinalge number :'))\n",
    "print(\"The {}th triangle has {} dots \".format(n,int(triangle(n))))"
   ]
  },
  {
   "cell_type": "code",
   "execution_count": 25,
   "id": "3477bceb",
   "metadata": {},
   "outputs": [
    {
     "data": {
      "text/plain": [
       "23220.0"
      ]
     },
     "execution_count": 25,
     "metadata": {},
     "output_type": "execute_result"
    }
   ],
   "source": [
    "\n",
    "triangle(215)"
   ]
  },
  {
   "cell_type": "code",
   "execution_count": 26,
   "id": "d26f5cc3",
   "metadata": {},
   "outputs": [
    {
     "data": {
      "text/plain": [
       "1.0"
      ]
     },
     "execution_count": 26,
     "metadata": {},
     "output_type": "execute_result"
    }
   ],
   "source": [
    "\n",
    "triangle(1)"
   ]
  },
  {
   "cell_type": "code",
   "execution_count": null,
   "id": "4c742393",
   "metadata": {},
   "outputs": [],
   "source": [
    "Question5\n",
    "Create a function that takes a list of numbers between 1 and 10 (excluding one number) and\n",
    "returns the missing number.\n",
    "Examples\n",
    "missing_num([1, 2, 3, 4, 6, 7, 8, 9, 10]) ➞ 5\n",
    "missing_num([7, 2, 3, 6, 5, 9, 1, 4, 8]) ➞ 10\n",
    "missing_num([10, 5, 1, 2, 4, 6, 8, 3, 9]) ➞ 7"
   ]
  },
  {
   "cell_type": "code",
   "execution_count": 27,
   "id": "2acd90e4",
   "metadata": {},
   "outputs": [
    {
     "name": "stdout",
     "output_type": "stream",
     "text": [
      "5\n",
      "10\n",
      "7\n"
     ]
    }
   ],
   "source": [
    "\n",
    "def missing_num(lst):\n",
    "    total = sum([x for x in range(11)])\n",
    "    sum_Of_list = sum(lst)\n",
    "    return total - sum_Of_list\n",
    "\n",
    "print(missing_num([1, 2, 3, 4, 6, 7, 8, 9, 10]))\n",
    "print(missing_num([7, 2, 3, 6, 5, 9, 1, 4, 8]))\n",
    "print(missing_num([10, 5, 1, 2, 4, 6, 8, 3, 9]))"
   ]
  },
  {
   "cell_type": "code",
   "execution_count": null,
   "id": "76b4e35f",
   "metadata": {},
   "outputs": [],
   "source": []
  }
 ],
 "metadata": {
  "kernelspec": {
   "display_name": "Python 3 (ipykernel)",
   "language": "python",
   "name": "python3"
  },
  "language_info": {
   "codemirror_mode": {
    "name": "ipython",
    "version": 3
   },
   "file_extension": ".py",
   "mimetype": "text/x-python",
   "name": "python",
   "nbconvert_exporter": "python",
   "pygments_lexer": "ipython3",
   "version": "3.9.12"
  }
 },
 "nbformat": 4,
 "nbformat_minor": 5
}
