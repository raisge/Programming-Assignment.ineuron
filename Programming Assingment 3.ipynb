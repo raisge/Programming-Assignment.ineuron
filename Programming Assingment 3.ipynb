{
 "cells": [
  {
   "cell_type": "markdown",
   "id": "de4cde80",
   "metadata": {},
   "source": [
    "1. Write a Python Program to Check if a Number is Positive, Negative or Zero?\n"
   ]
  },
  {
   "cell_type": "code",
   "execution_count": 6,
   "id": "a056e6c8",
   "metadata": {},
   "outputs": [
    {
     "name": "stdout",
     "output_type": "stream",
     "text": [
      "enter a number:0\n",
      "number is zero : 0\n"
     ]
    }
   ],
   "source": [
    "a=int(input(\"enter a number:\"))\n",
    "if a>0:\n",
    "    print(f\"positive number: {a}\")\n",
    "elif a<0:\n",
    "    print(f\"negative number : {a}\")\n",
    "else:\n",
    "    print(f\"number is zero : {a}\")"
   ]
  },
  {
   "cell_type": "markdown",
   "id": "c06caa98",
   "metadata": {},
   "source": [
    "2. Write a Python Program to Check if a Number is Odd or Even?\n"
   ]
  },
  {
   "cell_type": "code",
   "execution_count": 8,
   "id": "041cab62",
   "metadata": {},
   "outputs": [
    {
     "name": "stdout",
     "output_type": "stream",
     "text": [
      "enter a number:24\n",
      "even number\n"
     ]
    }
   ],
   "source": [
    "number=int(input(\"enter a number:\"))\n",
    "if number%2==0:\n",
    "    print(\"even number\")\n",
    "else:\n",
    "    print(\"odd number\")"
   ]
  },
  {
   "cell_type": "markdown",
   "id": "aaac187d",
   "metadata": {},
   "source": [
    "3. Write a Python Program to Check Leap Year?\n",
    "\n"
   ]
  },
  {
   "cell_type": "code",
   "execution_count": 12,
   "id": "546e18ed",
   "metadata": {},
   "outputs": [
    {
     "name": "stdout",
     "output_type": "stream",
     "text": [
      "enter a year:2006\n",
      "2006 is not a leap year\n"
     ]
    }
   ],
   "source": [
    "leap_year=int(input(\"enter a year:\"))\n",
    "if leap_year%4==0:\n",
    "    print(f\"{leap_year} is a leap year\")\n",
    "else:\n",
    "    print(f\"{leap_year} is not a leap year\")"
   ]
  },
  {
   "cell_type": "markdown",
   "id": "272ea8d8",
   "metadata": {},
   "source": [
    "4. Write a Python Program to Check Prime Number?"
   ]
  },
  {
   "cell_type": "code",
   "execution_count": 28,
   "id": "e8f90a65",
   "metadata": {},
   "outputs": [
    {
     "name": "stdout",
     "output_type": "stream",
     "text": [
      "enter a number:23\n",
      "its a prime number\n"
     ]
    }
   ],
   "source": [
    "prime_number=int(input(\"enter a number:\"))\n",
    "for i in range(2,prime_number):\n",
    "    if prime_number%i==0:\n",
    "        print(\"its not a prime number\")\n",
    "        break\n",
    "else:\n",
    "    print(\"its a prime number\")"
   ]
  },
  {
   "cell_type": "markdown",
   "id": "972bc850",
   "metadata": {},
   "source": [
    "5. Write a Python Program to Print all Prime Numbers in an Interval of 1-10000?"
   ]
  },
  {
   "cell_type": "code",
   "execution_count": 32,
   "id": "543c40f7",
   "metadata": {},
   "outputs": [
    {
     "name": "stdout",
     "output_type": "stream",
     "text": [
      "enter 1st number:1\n",
      "enter 2nd number:100\n",
      " 2 its a prime number\n",
      " 3 its a prime number\n",
      " 5 its a prime number\n",
      " 7 its a prime number\n",
      " 11 its a prime number\n",
      " 13 its a prime number\n",
      " 17 its a prime number\n",
      " 19 its a prime number\n",
      " 23 its a prime number\n",
      " 29 its a prime number\n",
      " 31 its a prime number\n",
      " 37 its a prime number\n",
      " 41 its a prime number\n",
      " 43 its a prime number\n",
      " 47 its a prime number\n",
      " 53 its a prime number\n",
      " 59 its a prime number\n",
      " 61 its a prime number\n",
      " 67 its a prime number\n",
      " 71 its a prime number\n",
      " 73 its a prime number\n",
      " 79 its a prime number\n",
      " 83 its a prime number\n",
      " 89 its a prime number\n",
      " 97 its a prime number\n"
     ]
    }
   ],
   "source": [
    "a=int(input(\"enter 1st number:\"))\n",
    "b=int(input(\"enter 2nd number:\"))\n",
    "for j in range(a,b):\n",
    "    if j > 1:\n",
    "        for i in range(2,j):\n",
    "            if j%i==0:\n",
    "                break\n",
    "        else:\n",
    "            print(f\" {j} its a prime number\")"
   ]
  },
  {
   "cell_type": "code",
   "execution_count": null,
   "id": "ba9dd7ea",
   "metadata": {},
   "outputs": [],
   "source": []
  }
 ],
 "metadata": {
  "kernelspec": {
   "display_name": "Python 3 (ipykernel)",
   "language": "python",
   "name": "python3"
  },
  "language_info": {
   "codemirror_mode": {
    "name": "ipython",
    "version": 3
   },
   "file_extension": ".py",
   "mimetype": "text/x-python",
   "name": "python",
   "nbconvert_exporter": "python",
   "pygments_lexer": "ipython3",
   "version": "3.9.12"
  }
 },
 "nbformat": 4,
 "nbformat_minor": 5
}
