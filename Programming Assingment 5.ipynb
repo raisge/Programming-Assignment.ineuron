{
 "cells": [
  {
   "cell_type": "markdown",
   "id": "8910493c",
   "metadata": {},
   "source": [
    "1.Write a Python Program to Find LCM?"
   ]
  },
  {
   "cell_type": "code",
   "execution_count": 7,
   "id": "17d6d05c",
   "metadata": {},
   "outputs": [
    {
     "name": "stdout",
     "output_type": "stream",
     "text": [
      "Enter 1st LCM number: 12\n",
      "Enter 2nd LCM number: 24\n",
      "LCM of given number:  24\n"
     ]
    }
   ],
   "source": [
    "import math\n",
    "a = int(input(\"Enter 1st LCM number: \"))\n",
    "b = int(input(\"Enter 2nd LCM number: \"))\n",
    "c= math.lcm(a,b)\n",
    "print(\"LCM of given number: \",c)"
   ]
  },
  {
   "cell_type": "markdown",
   "id": "ea4beb6f",
   "metadata": {},
   "source": [
    "2.Write a Python Program to Find HCF?"
   ]
  },
  {
   "cell_type": "code",
   "execution_count": 6,
   "id": "4953b95b",
   "metadata": {},
   "outputs": [
    {
     "name": "stdout",
     "output_type": "stream",
     "text": [
      "Enter 1st hcf number24\n",
      "Enter 2nd hcf number48\n",
      "HCF of given number :  24\n"
     ]
    }
   ],
   "source": [
    "a=int(input(\"Enter 1st hcf number\"))\n",
    "b=int(input(\"Enter 2nd hcf number\"))\n",
    "for i in range(1,a+1):\n",
    "    if a%i == 0  and b%i == 0:\n",
    "        hcf = i\n",
    "    else:\n",
    "        pass\n",
    "print(\"HCF of given number : \",hcf)"
   ]
  },
  {
   "cell_type": "markdown",
   "id": "53db51ba",
   "metadata": {},
   "source": [
    "3. Write a Python Program to Convert Decimal to Binary, Octal and Hexadecimal?\n"
   ]
  },
  {
   "cell_type": "code",
   "execution_count": 5,
   "id": "07e03a22",
   "metadata": {},
   "outputs": [
    {
     "name": "stdout",
     "output_type": "stream",
     "text": [
      "Enter number: 24\n",
      "binary of 24 is : 0b11000\n",
      "octal of 24 is : 0o30\n",
      "hexadecimal of 24 is : 0x18\n"
     ]
    }
   ],
   "source": [
    "a=int(input(\"Enter number: \"))\n",
    "b =(bin(a))\n",
    "c =(oct(a))\n",
    "d =(hex(a))\n",
    "print(f\"binary of {a} is : {b}\")\n",
    "print(f\"octal of {a} is : {c}\")\n",
    "print(f\"hexadecimal of {a} is : {d}\")"
   ]
  },
  {
   "cell_type": "markdown",
   "id": "addc24e4",
   "metadata": {},
   "source": [
    "4.Write a Python Program To Find ASCII value of a character?"
   ]
  },
  {
   "cell_type": "code",
   "execution_count": 4,
   "id": "63658da4",
   "metadata": {},
   "outputs": [
    {
     "name": "stdout",
     "output_type": "stream",
     "text": [
      "enter any text 24\n",
      "The ASCII value of 2 is  50\n",
      "The ASCII value of 4 is  52\n"
     ]
    }
   ],
   "source": [
    " a=(input(\"enter any text \"))\n",
    "\n",
    "for i in a:\n",
    "    print(f\"The ASCII value of {i} is \", ord(i))"
   ]
  },
  {
   "cell_type": "markdown",
   "id": "0d61e480",
   "metadata": {},
   "source": [
    "\n",
    "5.Write a Python Program to Make a Simple Calculator with 4 basic mathematical operations?"
   ]
  },
  {
   "cell_type": "code",
   "execution_count": 8,
   "id": "8a6cc050",
   "metadata": {},
   "outputs": [
    {
     "name": "stdout",
     "output_type": "stream",
     "text": [
      "Enter a first number 10\n",
      "Enter a second number 20\n",
      "('The addition of the number is ', 30, 'The subtraction of the number is ', -10, 'The division of the number is ', 0.5, 'The multiplication of the number is ', 200)\n"
     ]
    }
   ],
   "source": [
    "x = int(input(\"Enter a first number \"))\n",
    "y = int(input(\"Enter a second number \"))\n",
    "\n",
    "def calculator(x,y):\n",
    "    return \"The addition of the number is \", (x+y),\"The subtraction of the number is \", (x-y), \"The division of the number is \", (x/y), \"The multiplication of the number is \", (x*y) \n",
    "print(calculator(x,y))"
   ]
  },
  {
   "cell_type": "code",
   "execution_count": null,
   "id": "cb6cadc6",
   "metadata": {},
   "outputs": [],
   "source": []
  },
  {
   "cell_type": "code",
   "execution_count": null,
   "id": "4d27a9f3",
   "metadata": {},
   "outputs": [],
   "source": []
  }
 ],
 "metadata": {
  "kernelspec": {
   "display_name": "Python 3 (ipykernel)",
   "language": "python",
   "name": "python3"
  },
  "language_info": {
   "codemirror_mode": {
    "name": "ipython",
    "version": 3
   },
   "file_extension": ".py",
   "mimetype": "text/x-python",
   "name": "python",
   "nbconvert_exporter": "python",
   "pygments_lexer": "ipython3",
   "version": "3.9.12"
  }
 },
 "nbformat": 4,
 "nbformat_minor": 5
}
