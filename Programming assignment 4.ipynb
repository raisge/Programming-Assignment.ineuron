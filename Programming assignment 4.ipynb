{
 "cells": [
  {
   "cell_type": "markdown",
   "id": "ba68b097",
   "metadata": {},
   "source": [
    "## 1. Write a Python Program to Find the Factorial of a Number?\n"
   ]
  },
  {
   "cell_type": "code",
   "execution_count": 2,
   "id": "a13d5bdb",
   "metadata": {},
   "outputs": [
    {
     "name": "stdout",
     "output_type": "stream",
     "text": [
      "Enter a number25\n",
      "15511210043330985984000000\n"
     ]
    }
   ],
   "source": [
    "a = int(input(\"Enter a number\", ))\n",
    "b=1\n",
    "for i in range(1,a+1):\n",
    "    b=b*i\n",
    "print(b)"
   ]
  },
  {
   "cell_type": "markdown",
   "id": "34818f43",
   "metadata": {},
   "source": [
    "## 2. Write a Python Program to Display the multiplication Table?\n"
   ]
  },
  {
   "cell_type": "code",
   "execution_count": 14,
   "id": "e100307a",
   "metadata": {},
   "outputs": [
    {
     "name": "stdout",
     "output_type": "stream",
     "text": [
      "enter a number: 12\n",
      "12 x 1 = 12\n",
      "12 x 2 = 24\n",
      "12 x 3 = 36\n",
      "12 x 4 = 48\n",
      "12 x 5 = 60\n",
      "12 x 6 = 72\n",
      "12 x 7 = 84\n",
      "12 x 8 = 96\n",
      "12 x 9 = 108\n",
      "12 x 10 = 120\n"
     ]
    }
   ],
   "source": [
    "a= int(input(\"enter a number: \"))\n",
    "for i in range(1,11):\n",
    "    b=i*a\n",
    "    print(a,\"x\",i,\"=\",b)"
   ]
  },
  {
   "cell_type": "markdown",
   "id": "68c3bb48",
   "metadata": {},
   "source": [
    "## 3. Write a Python Program to Print the Fibonacci sequence?\n"
   ]
  },
  {
   "cell_type": "code",
   "execution_count": 17,
   "id": "fb05edcb",
   "metadata": {},
   "outputs": [
    {
     "name": "stdout",
     "output_type": "stream",
     "text": [
      "Create Fibonacci series until: 25\n",
      "1\n",
      "2\n",
      "3\n",
      "5\n",
      "8\n",
      "13\n",
      "21\n",
      "end\n"
     ]
    }
   ],
   "source": [
    "n=int((input(\"Create Fibonacci series until: \")))\n",
    "a=0\n",
    "b=1\n",
    "c=1\n",
    "while c < (n-a):\n",
    "    c=a+b\n",
    "    a=b\n",
    "    b=c\n",
    "    print(c)\n",
    "else:\n",
    "    print(\"end\")\n"
   ]
  },
  {
   "cell_type": "markdown",
   "id": "cb9e5c30",
   "metadata": {},
   "source": [
    "## 4. Write a Python Program to Check Armstrong Number?\n"
   ]
  },
  {
   "cell_type": "code",
   "execution_count": 25,
   "id": "4f811101",
   "metadata": {},
   "outputs": [
    {
     "name": "stdout",
     "output_type": "stream",
     "text": [
      "Enter number to check if its Armstrong number:370\n",
      "Yes it's Armstrong number\n"
     ]
    }
   ],
   "source": [
    "n=((input(\"Enter number to check if its Armstrong number:\")))\n",
    "a=0\n",
    "b=0\n",
    "for i in n:\n",
    "    a=int(i)**3\n",
    "    b=a+b\n",
    "if b==(int(n)):\n",
    "    print(\"Yes it's Armstrong number\")\n",
    "else:\n",
    "    print(\"No it's not Armstrong number\")"
   ]
  },
  {
   "cell_type": "markdown",
   "id": "08d5c32b",
   "metadata": {},
   "source": [
    "## 5. Write a Python Program to Find Armstrong Number in an Interval?\n"
   ]
  },
  {
   "cell_type": "code",
   "execution_count": 30,
   "id": "d455dfce",
   "metadata": {},
   "outputs": [
    {
     "name": "stdout",
     "output_type": "stream",
     "text": [
      "Enter starting number of the range to find Armstrong number:1\n",
      "Enter last number of the raneg to check if its Armstrong number:1000\n",
      "1 is Armstrong number\n",
      "153 is Armstrong number\n",
      "370 is Armstrong number\n",
      "371 is Armstrong number\n",
      "407 is Armstrong number\n"
     ]
    }
   ],
   "source": [
    "n1=int((input(\"Enter starting number of the range to find Armstrong number:\")))\n",
    "n2=int((input(\"Enter last number of the raneg to check if its Armstrong number:\")))\n",
    "a=0\n",
    "b=0\n",
    "for j in range(n1,n2+1):\n",
    "    for i in str(j):\n",
    "        a=int(i)**3\n",
    "        b=a+b\n",
    "    if b==(int(j)):\n",
    "        print(j,\"is Armstrong number\")\n",
    "        a=0\n",
    "        b=0\n",
    "    else:\n",
    "        a=0\n",
    "        b=0"
   ]
  },
  {
   "cell_type": "markdown",
   "id": "57cdb29c",
   "metadata": {},
   "source": [
    "## 6. Write a Python Program to Find the Sum of Natural Numbers?"
   ]
  },
  {
   "cell_type": "code",
   "execution_count": 46,
   "id": "22e99255",
   "metadata": {},
   "outputs": [
    {
     "name": "stdout",
     "output_type": "stream",
     "text": [
      "Please enter number: 25\n",
      "sum of 25 natural number is 325.0\n"
     ]
    }
   ],
   "source": [
    "a=int((input(\"Please enter number: \")))\n",
    "b=(a+1)\n",
    "c=a*b/2\n",
    "print(f\"sum of {a} natural number is {c}\")"
   ]
  },
  {
   "cell_type": "code",
   "execution_count": null,
   "id": "bbd5c245",
   "metadata": {},
   "outputs": [],
   "source": []
  }
 ],
 "metadata": {
  "kernelspec": {
   "display_name": "Python 3 (ipykernel)",
   "language": "python",
   "name": "python3"
  },
  "language_info": {
   "codemirror_mode": {
    "name": "ipython",
    "version": 3
   },
   "file_extension": ".py",
   "mimetype": "text/x-python",
   "name": "python",
   "nbconvert_exporter": "python",
   "pygments_lexer": "ipython3",
   "version": "3.9.12"
  }
 },
 "nbformat": 4,
 "nbformat_minor": 5
}
