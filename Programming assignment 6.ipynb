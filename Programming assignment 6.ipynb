{
 "cells": [
  {
   "cell_type": "markdown",
   "id": "a01acf85",
   "metadata": {},
   "source": [
    "1. Write a Python Program to Display Fibonacci Sequence Using Recursion?\n"
   ]
  },
  {
   "cell_type": "code",
   "execution_count": 4,
   "id": "28e871f4",
   "metadata": {},
   "outputs": [
    {
     "name": "stdout",
     "output_type": "stream",
     "text": [
      "Please enter number10\n",
      "Fibonacci sequence:\n",
      "1\n",
      "1\n",
      "2\n",
      "3\n",
      "5\n",
      "8\n",
      "13\n",
      "21\n",
      "34\n",
      "55\n"
     ]
    }
   ],
   "source": [
    "def fibo(n):\n",
    "    if n <= 1:\n",
    "        return n\n",
    "    else:\n",
    "        return(fibo(n-1) + fibo(n-2))\n",
    "    \n",
    "nterms=int(input(\"Please enter number\"))\n",
    "\n",
    "if nterms <= 0:\n",
    "    print(\"Plese enter a positive integer\")\n",
    "else:\n",
    "    print(\"Fibonacci sequence:\")\n",
    "    for i in range(1,nterms+1):\n",
    "        print(fibo(i))"
   ]
  },
  {
   "cell_type": "markdown",
   "id": "f0e59161",
   "metadata": {},
   "source": [
    "2. Write a Python Program to Find Factorial of Number Using Recursion?\n"
   ]
  },
  {
   "cell_type": "code",
   "execution_count": 5,
   "id": "d4edb8ab",
   "metadata": {},
   "outputs": [
    {
     "name": "stdout",
     "output_type": "stream",
     "text": [
      "Enter a number10\n",
      "The factorial of 10 is 3628800\n"
     ]
    }
   ],
   "source": [
    "def facto(a):\n",
    "    if a==1:\n",
    "        return 1\n",
    "    else:\n",
    "        return a*(facto(a-1))\n",
    "    \n",
    "num=int(input(\"Enter a number\"))\n",
    "\n",
    "if num < 0:\n",
    "    print(\"Sorry, factorial does not exist for negative numbers\")\n",
    "elif num == 0:\n",
    "    print(\"The factorial of 0 is 1\")\n",
    "else:\n",
    "    print(\"The factorial of\", num, \"is\", facto(num))"
   ]
  },
  {
   "cell_type": "markdown",
   "id": "a7107f61",
   "metadata": {},
   "source": [
    "3. Write a Python Program to calculate your Body Mass Index?\n"
   ]
  },
  {
   "cell_type": "code",
   "execution_count": 6,
   "id": "04c87305",
   "metadata": {},
   "outputs": [
    {
     "name": "stdout",
     "output_type": "stream",
     "text": [
      "Enter height in meters 5\n",
      "Enter 1.weight in Kg 4\n",
      "The BMI of 5.0 meters height and 4.0 kg weight is 0.16\n"
     ]
    }
   ],
   "source": [
    "def bmi(b,c):\n",
    "    return (c/(b*b))\n",
    "\n",
    "b = float(input(\"Enter height in meters \"))\n",
    "c = float(input(\"Enter 1.weight in Kg \"))\n",
    "\n",
    "if b and b <= 0:\n",
    "    print(\"Sorry, BMI does not exist for negative numbers\")\n",
    "else:\n",
    "    print(\"The BMI of\", b ,\"meters height and\", c ,\"kg weight\" , \"is\", bmi(b,c))"
   ]
  },
  {
   "cell_type": "markdown",
   "id": "86b5575e",
   "metadata": {},
   "source": [
    "4.Write a Python Program to calculate the natural logarithm of any number?"
   ]
  },
  {
   "cell_type": "code",
   "execution_count": 11,
   "id": "2cc99616",
   "metadata": {},
   "outputs": [
    {
     "name": "stdout",
     "output_type": "stream",
     "text": [
      "math.log(4)is:  1.3862943611198906\n"
     ]
    }
   ],
   "source": [
    "import math\n",
    "\n",
    "print(\"math.log(4)is: \",math.log(4))"
   ]
  },
  {
   "cell_type": "markdown",
   "id": "6edef9b0",
   "metadata": {},
   "source": [
    "5. Write a Python Program for cube sum of first n natural numbers?"
   ]
  },
  {
   "cell_type": "code",
   "execution_count": 1,
   "id": "4f009b85",
   "metadata": {},
   "outputs": [],
   "source": [
    "def cubesum(n):\n",
    "    sum = 0\n",
    "    for i in range(0,n+1):\n",
    "        sum += i*i*i\n",
    "    return sum"
   ]
  },
  {
   "cell_type": "code",
   "execution_count": 2,
   "id": "026c9d7e",
   "metadata": {},
   "outputs": [
    {
     "data": {
      "text/plain": [
       "225"
      ]
     },
     "execution_count": 2,
     "metadata": {},
     "output_type": "execute_result"
    }
   ],
   "source": [
    "cubesum(5)"
   ]
  }
 ],
 "metadata": {
  "kernelspec": {
   "display_name": "Python 3 (ipykernel)",
   "language": "python",
   "name": "python3"
  },
  "language_info": {
   "codemirror_mode": {
    "name": "ipython",
    "version": 3
   },
   "file_extension": ".py",
   "mimetype": "text/x-python",
   "name": "python",
   "nbconvert_exporter": "python",
   "pygments_lexer": "ipython3",
   "version": "3.9.12"
  }
 },
 "nbformat": 4,
 "nbformat_minor": 5
}
