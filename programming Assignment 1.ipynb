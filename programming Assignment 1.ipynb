{
 "cells": [
  {
   "cell_type": "code",
   "execution_count": 1,
   "id": "4641de2b",
   "metadata": {},
   "outputs": [
    {
     "name": "stdout",
     "output_type": "stream",
     "text": [
      "HELLO PYTHON\n"
     ]
    }
   ],
   "source": [
    "#1. Write a Python program to print Hello Python?\n",
    "print(\"HELLO PYTHON\")"
   ]
  },
  {
   "cell_type": "code",
   "execution_count": 3,
   "id": "734ab65a",
   "metadata": {},
   "outputs": [
    {
     "name": "stdout",
     "output_type": "stream",
     "text": [
      "enter 1st number: 1\n",
      "enter 2nd number: 2\n",
      "enter any specific operation +,-,/,*, :+\n",
      "ANS: 3\n"
     ]
    }
   ],
   "source": [
    "#2. Write a Python program to do arithmetical operations addition and division.?\n",
    "num1=int(input(\"enter 1st number: \"))\n",
    "num2=int(input(\"enter 2nd number: \"))\n",
    "a = input(\"enter any specific operation +,-,/,*, :\")\n",
    "result=0\n",
    "if a==\"+\":\n",
    "    result = num1+num2\n",
    "elif a=='-':\n",
    "    result = num1-num2\n",
    "elif  a=='*':\n",
    "    result = num1*num2\n",
    "elif a=='/':\n",
    "    result = num1/num2\n",
    "else:\n",
    "    print('input is not correct')\n",
    "print(\"ANS:\",result)"
   ]
  },
  {
   "cell_type": "code",
   "execution_count": 4,
   "id": "5ca7ee9f",
   "metadata": {},
   "outputs": [
    {
     "name": "stdout",
     "output_type": "stream",
     "text": [
      "breath:10\n",
      "height:20\n",
      "area of tringle: 100.0\n"
     ]
    }
   ],
   "source": [
    "#3. #Write a Python program to find the area of a triangle?\n",
    "b=int(input(\"breath:\"))\n",
    "h=int(input('height:'))\n",
    "area = 1/2*b*h\n",
    "print('area of tringle:',area)"
   ]
  },
  {
   "cell_type": "code",
   "execution_count": 5,
   "id": "22a4c412",
   "metadata": {},
   "outputs": [
    {
     "name": "stdout",
     "output_type": "stream",
     "text": [
      "X:10\n",
      "Y:20\n",
      "X: 10 and  Y: 20\n",
      "swap: X: 20 and  Y: 10\n"
     ]
    }
   ],
   "source": [
    "#4.Write a Python program to swap two variables?\n",
    "x=int(input('X:'))\n",
    "y=int(input('Y:'))\n",
    "print(\"X:\",x ,  \"and \",\"Y:\",y)\n",
    "x,y=y,x\n",
    "print(\"swap:\",\"X:\",x ,  \"and \",\"Y:\",y)"
   ]
  },
  {
   "cell_type": "code",
   "execution_count": 6,
   "id": "b8e3a3cc",
   "metadata": {},
   "outputs": [
    {
     "name": "stdout",
     "output_type": "stream",
     "text": [
      "random number:  45\n"
     ]
    }
   ],
   "source": [
    "#5. Write a Python program to generate a random number?\n",
    "import random\n",
    "n = random.randint(1,100)\n",
    "print('random number: ',n)"
   ]
  },
  {
   "cell_type": "code",
   "execution_count": null,
   "id": "aed60a5c",
   "metadata": {},
   "outputs": [],
   "source": []
  }
 ],
 "metadata": {
  "kernelspec": {
   "display_name": "Python 3 (ipykernel)",
   "language": "python",
   "name": "python3"
  },
  "language_info": {
   "codemirror_mode": {
    "name": "ipython",
    "version": 3
   },
   "file_extension": ".py",
   "mimetype": "text/x-python",
   "name": "python",
   "nbconvert_exporter": "python",
   "pygments_lexer": "ipython3",
   "version": "3.9.12"
  }
 },
 "nbformat": 4,
 "nbformat_minor": 5
}
